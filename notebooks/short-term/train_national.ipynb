{
 "cells": [
  {
   "cell_type": "code",
   "execution_count": 464,
   "metadata": {},
   "outputs": [],
   "source": [
    "from pyforest import *\n",
    "from sklearn.model_selection import TimeSeriesSplit, cross_val_score\n",
    "from sklearn.metrics import mean_absolute_error, mean_squared_error\n",
    "from joblib import dump, load\n",
    "\n",
    "from sklearn.ensemble import GradientBoostingRegressor, RandomForestRegressor,VotingRegressor, AdaBoostRegressor\n",
    "from sklearn.linear_model import LinearRegression, Ridge\n",
    "from sklearn.svm import SVR\n",
    "from sklearn.tree import DecisionTreeRegressor\n",
    "from xgboost import XGBRegressor\n",
    "from catboost import CatBoostRegressor\n",
    "from lightgbm import LGBMRegressor\n",
    "from dateutil.parser import parse\n",
    "\n",
    "import warnings\n",
    "warnings.filterwarnings('ignore')"
   ]
  },
  {
   "cell_type": "code",
   "execution_count": 106,
   "metadata": {},
   "outputs": [],
   "source": [
    "data = pd.read_excel('../../data/power-watt/Hourly Actual Reading Nation.xlsx')"
   ]
  },
  {
   "cell_type": "code",
   "execution_count": 107,
   "metadata": {},
   "outputs": [
    {
     "data": {
      "text/html": [
       "<div>\n",
       "<style scoped>\n",
       "    .dataframe tbody tr th:only-of-type {\n",
       "        vertical-align: middle;\n",
       "    }\n",
       "\n",
       "    .dataframe tbody tr th {\n",
       "        vertical-align: top;\n",
       "    }\n",
       "\n",
       "    .dataframe thead th {\n",
       "        text-align: right;\n",
       "    }\n",
       "</style>\n",
       "<table border=\"1\" class=\"dataframe\">\n",
       "  <thead>\n",
       "    <tr style=\"text-align: right;\">\n",
       "      <th></th>\n",
       "      <th>Unnamed: 0</th>\n",
       "      <th>Unnamed: 1</th>\n",
       "      <th>Unnamed: 2</th>\n",
       "      <th>Unnamed: 3</th>\n",
       "      <th>Unnamed: 4</th>\n",
       "      <th>Unnamed: 5</th>\n",
       "      <th>Unnamed: 6</th>\n",
       "      <th>Unnamed: 7</th>\n",
       "      <th>Unnamed: 8</th>\n",
       "      <th>Unnamed: 9</th>\n",
       "      <th>...</th>\n",
       "      <th>Unnamed: 22</th>\n",
       "      <th>Unnamed: 23</th>\n",
       "      <th>Unnamed: 24</th>\n",
       "      <th>Unnamed: 25</th>\n",
       "      <th>Unnamed: 26</th>\n",
       "      <th>Unnamed: 27</th>\n",
       "      <th>Unnamed: 28</th>\n",
       "      <th>Unnamed: 29</th>\n",
       "      <th>Unnamed: 30</th>\n",
       "      <th>Unnamed: 31</th>\n",
       "    </tr>\n",
       "  </thead>\n",
       "  <tbody>\n",
       "    <tr>\n",
       "      <th>0</th>\n",
       "      <td>NaN</td>\n",
       "      <td>2017</td>\n",
       "      <td>NaN</td>\n",
       "      <td>NaN</td>\n",
       "      <td>NaN</td>\n",
       "      <td>NaN</td>\n",
       "      <td>NaN</td>\n",
       "      <td>NaN</td>\n",
       "      <td>NaN</td>\n",
       "      <td>2018</td>\n",
       "      <td>...</td>\n",
       "      <td>NaN</td>\n",
       "      <td>NaN</td>\n",
       "      <td>NaN</td>\n",
       "      <td>2020</td>\n",
       "      <td>NaN</td>\n",
       "      <td>NaN</td>\n",
       "      <td>NaN</td>\n",
       "      <td>NaN</td>\n",
       "      <td>NaN</td>\n",
       "      <td>NaN</td>\n",
       "    </tr>\n",
       "    <tr>\n",
       "      <th>1</th>\n",
       "      <td>NaN</td>\n",
       "      <td>HOURS</td>\n",
       "      <td>Thermal</td>\n",
       "      <td>Hydro</td>\n",
       "      <td>Import</td>\n",
       "      <td>Total</td>\n",
       "      <td>Valco Demand</td>\n",
       "      <td>Export</td>\n",
       "      <td>NaN</td>\n",
       "      <td>HOURS</td>\n",
       "      <td>...</td>\n",
       "      <td>Valco Demand</td>\n",
       "      <td>Export</td>\n",
       "      <td>NaN</td>\n",
       "      <td>HOURS</td>\n",
       "      <td>Thermal</td>\n",
       "      <td>Hydro</td>\n",
       "      <td>Import</td>\n",
       "      <td>Total</td>\n",
       "      <td>Valco Demand</td>\n",
       "      <td>Export</td>\n",
       "    </tr>\n",
       "    <tr>\n",
       "      <th>2</th>\n",
       "      <td>NaN</td>\n",
       "      <td>NaN</td>\n",
       "      <td>NaN</td>\n",
       "      <td>NaN</td>\n",
       "      <td>NaN</td>\n",
       "      <td>NaN</td>\n",
       "      <td>NaN</td>\n",
       "      <td>NaN</td>\n",
       "      <td>NaN</td>\n",
       "      <td>NaN</td>\n",
       "      <td>...</td>\n",
       "      <td>NaN</td>\n",
       "      <td>NaN</td>\n",
       "      <td>NaN</td>\n",
       "      <td>NaN</td>\n",
       "      <td>NaN</td>\n",
       "      <td>NaN</td>\n",
       "      <td>NaN</td>\n",
       "      <td>NaN</td>\n",
       "      <td>NaN</td>\n",
       "      <td>NaN</td>\n",
       "    </tr>\n",
       "    <tr>\n",
       "      <th>3</th>\n",
       "      <td>NaN</td>\n",
       "      <td>2017-01-01 00:00:00</td>\n",
       "      <td>676.5</td>\n",
       "      <td>722</td>\n",
       "      <td>-125</td>\n",
       "      <td>1523.5</td>\n",
       "      <td>70.1</td>\n",
       "      <td>0</td>\n",
       "      <td>NaN</td>\n",
       "      <td>2018-01-01 00:00:00</td>\n",
       "      <td>...</td>\n",
       "      <td>88.1</td>\n",
       "      <td>0</td>\n",
       "      <td>NaN</td>\n",
       "      <td>2020-01-01 00:00:00</td>\n",
       "      <td>1435.2</td>\n",
       "      <td>669.2</td>\n",
       "      <td>0</td>\n",
       "      <td>2104.4</td>\n",
       "      <td>51.5</td>\n",
       "      <td>0</td>\n",
       "    </tr>\n",
       "    <tr>\n",
       "      <th>4</th>\n",
       "      <td>NaN</td>\n",
       "      <td>2017-01-01 01:00:00</td>\n",
       "      <td>674.3</td>\n",
       "      <td>788</td>\n",
       "      <td>-106</td>\n",
       "      <td>1568.3</td>\n",
       "      <td>70.5</td>\n",
       "      <td>0</td>\n",
       "      <td>NaN</td>\n",
       "      <td>2018-01-01 01:00:00</td>\n",
       "      <td>...</td>\n",
       "      <td>85.3</td>\n",
       "      <td>9</td>\n",
       "      <td>NaN</td>\n",
       "      <td>2020-01-01 01:00:00</td>\n",
       "      <td>1452.3</td>\n",
       "      <td>643.7</td>\n",
       "      <td>0</td>\n",
       "      <td>2096</td>\n",
       "      <td>57.2</td>\n",
       "      <td>0</td>\n",
       "    </tr>\n",
       "  </tbody>\n",
       "</table>\n",
       "<p>5 rows × 32 columns</p>\n",
       "</div>"
      ],
      "text/plain": [
       "   Unnamed: 0           Unnamed: 1 Unnamed: 2 Unnamed: 3 Unnamed: 4  \\\n",
       "0         NaN                 2017        NaN        NaN        NaN   \n",
       "1         NaN                HOURS    Thermal      Hydro     Import   \n",
       "2         NaN                  NaN        NaN        NaN        NaN   \n",
       "3         NaN  2017-01-01 00:00:00      676.5        722       -125   \n",
       "4         NaN  2017-01-01 01:00:00      674.3        788       -106   \n",
       "\n",
       "  Unnamed: 5    Unnamed: 6 Unnamed: 7  Unnamed: 8           Unnamed: 9  ...  \\\n",
       "0        NaN           NaN        NaN         NaN                 2018  ...   \n",
       "1      Total  Valco Demand     Export         NaN                HOURS  ...   \n",
       "2        NaN           NaN        NaN         NaN                  NaN  ...   \n",
       "3     1523.5          70.1          0         NaN  2018-01-01 00:00:00  ...   \n",
       "4     1568.3          70.5          0         NaN  2018-01-01 01:00:00  ...   \n",
       "\n",
       "    Unnamed: 22 Unnamed: 23 Unnamed: 24          Unnamed: 25 Unnamed: 26  \\\n",
       "0           NaN         NaN         NaN                 2020         NaN   \n",
       "1  Valco Demand      Export         NaN                HOURS     Thermal   \n",
       "2           NaN         NaN         NaN                  NaN         NaN   \n",
       "3          88.1           0         NaN  2020-01-01 00:00:00      1435.2   \n",
       "4          85.3           9         NaN  2020-01-01 01:00:00      1452.3   \n",
       "\n",
       "  Unnamed: 27  Unnamed: 28 Unnamed: 29   Unnamed: 30 Unnamed: 31  \n",
       "0         NaN          NaN         NaN           NaN         NaN  \n",
       "1       Hydro       Import       Total  Valco Demand      Export  \n",
       "2         NaN          NaN         NaN           NaN         NaN  \n",
       "3       669.2            0      2104.4          51.5           0  \n",
       "4       643.7            0        2096          57.2           0  \n",
       "\n",
       "[5 rows x 32 columns]"
      ]
     },
     "execution_count": 107,
     "metadata": {},
     "output_type": "execute_result"
    }
   ],
   "source": [
    "data.head()"
   ]
  },
  {
   "cell_type": "code",
   "execution_count": 108,
   "metadata": {},
   "outputs": [],
   "source": [
    "# data[['Unnamed: 32']]\n",
    "myData = data.copy()"
   ]
  },
  {
   "cell_type": "code",
   "execution_count": 109,
   "metadata": {},
   "outputs": [],
   "source": [
    "myData = myData[['Unnamed: 1', 'Unnamed: 5', 'Unnamed: 9', 'Unnamed: 13', 'Unnamed: 17', 'Unnamed: 21', 'Unnamed: 25', 'Unnamed: 29']]"
   ]
  },
  {
   "cell_type": "code",
   "execution_count": 110,
   "metadata": {},
   "outputs": [
    {
     "data": {
      "text/html": [
       "<div>\n",
       "<style scoped>\n",
       "    .dataframe tbody tr th:only-of-type {\n",
       "        vertical-align: middle;\n",
       "    }\n",
       "\n",
       "    .dataframe tbody tr th {\n",
       "        vertical-align: top;\n",
       "    }\n",
       "\n",
       "    .dataframe thead th {\n",
       "        text-align: right;\n",
       "    }\n",
       "</style>\n",
       "<table border=\"1\" class=\"dataframe\">\n",
       "  <thead>\n",
       "    <tr style=\"text-align: right;\">\n",
       "      <th></th>\n",
       "      <th>Unnamed: 1</th>\n",
       "      <th>Unnamed: 5</th>\n",
       "      <th>Unnamed: 9</th>\n",
       "      <th>Unnamed: 13</th>\n",
       "      <th>Unnamed: 17</th>\n",
       "      <th>Unnamed: 21</th>\n",
       "      <th>Unnamed: 25</th>\n",
       "      <th>Unnamed: 29</th>\n",
       "    </tr>\n",
       "  </thead>\n",
       "  <tbody>\n",
       "    <tr>\n",
       "      <th>0</th>\n",
       "      <td>2017</td>\n",
       "      <td>NaN</td>\n",
       "      <td>2018</td>\n",
       "      <td>NaN</td>\n",
       "      <td>2019</td>\n",
       "      <td>NaN</td>\n",
       "      <td>2020</td>\n",
       "      <td>NaN</td>\n",
       "    </tr>\n",
       "    <tr>\n",
       "      <th>1</th>\n",
       "      <td>HOURS</td>\n",
       "      <td>Total</td>\n",
       "      <td>HOURS</td>\n",
       "      <td>Total</td>\n",
       "      <td>HOURS</td>\n",
       "      <td>Total</td>\n",
       "      <td>HOURS</td>\n",
       "      <td>Total</td>\n",
       "    </tr>\n",
       "    <tr>\n",
       "      <th>2</th>\n",
       "      <td>NaN</td>\n",
       "      <td>NaN</td>\n",
       "      <td>NaN</td>\n",
       "      <td>NaN</td>\n",
       "      <td>NaN</td>\n",
       "      <td>NaN</td>\n",
       "      <td>NaN</td>\n",
       "      <td>NaN</td>\n",
       "    </tr>\n",
       "    <tr>\n",
       "      <th>3</th>\n",
       "      <td>2017-01-01 00:00:00</td>\n",
       "      <td>1523.5</td>\n",
       "      <td>2018-01-01 00:00:00</td>\n",
       "      <td>1571.8</td>\n",
       "      <td>2019-01-01 00:00:00</td>\n",
       "      <td>1832.4</td>\n",
       "      <td>2020-01-01 00:00:00</td>\n",
       "      <td>2104.4</td>\n",
       "    </tr>\n",
       "    <tr>\n",
       "      <th>4</th>\n",
       "      <td>2017-01-01 01:00:00</td>\n",
       "      <td>1568.3</td>\n",
       "      <td>2018-01-01 01:00:00</td>\n",
       "      <td>1581.5</td>\n",
       "      <td>2019-01-01 01:00:00</td>\n",
       "      <td>1856.1</td>\n",
       "      <td>2020-01-01 01:00:00</td>\n",
       "      <td>2096</td>\n",
       "    </tr>\n",
       "  </tbody>\n",
       "</table>\n",
       "</div>"
      ],
      "text/plain": [
       "            Unnamed: 1 Unnamed: 5           Unnamed: 9 Unnamed: 13  \\\n",
       "0                 2017        NaN                 2018         NaN   \n",
       "1                HOURS      Total                HOURS       Total   \n",
       "2                  NaN        NaN                  NaN         NaN   \n",
       "3  2017-01-01 00:00:00     1523.5  2018-01-01 00:00:00      1571.8   \n",
       "4  2017-01-01 01:00:00     1568.3  2018-01-01 01:00:00      1581.5   \n",
       "\n",
       "           Unnamed: 17 Unnamed: 21          Unnamed: 25 Unnamed: 29  \n",
       "0                 2019         NaN                 2020         NaN  \n",
       "1                HOURS       Total                HOURS       Total  \n",
       "2                  NaN         NaN                  NaN         NaN  \n",
       "3  2019-01-01 00:00:00      1832.4  2020-01-01 00:00:00      2104.4  \n",
       "4  2019-01-01 01:00:00      1856.1  2020-01-01 01:00:00        2096  "
      ]
     },
     "execution_count": 110,
     "metadata": {},
     "output_type": "execute_result"
    }
   ],
   "source": [
    "myData.head()"
   ]
  },
  {
   "cell_type": "code",
   "execution_count": 111,
   "metadata": {},
   "outputs": [],
   "source": [
    "myData.columns = ['2017 Date', '2017 Power', '2018 Date', '2018 Power', '2019 Date', '2019 Power', '2020 Date', '2020 Power']"
   ]
  },
  {
   "cell_type": "code",
   "execution_count": 112,
   "metadata": {},
   "outputs": [
    {
     "data": {
      "text/html": [
       "<div>\n",
       "<style scoped>\n",
       "    .dataframe tbody tr th:only-of-type {\n",
       "        vertical-align: middle;\n",
       "    }\n",
       "\n",
       "    .dataframe tbody tr th {\n",
       "        vertical-align: top;\n",
       "    }\n",
       "\n",
       "    .dataframe thead th {\n",
       "        text-align: right;\n",
       "    }\n",
       "</style>\n",
       "<table border=\"1\" class=\"dataframe\">\n",
       "  <thead>\n",
       "    <tr style=\"text-align: right;\">\n",
       "      <th></th>\n",
       "      <th>2017 Date</th>\n",
       "      <th>2017 Power</th>\n",
       "      <th>2018 Date</th>\n",
       "      <th>2018 Power</th>\n",
       "      <th>2019 Date</th>\n",
       "      <th>2019 Power</th>\n",
       "      <th>2020 Date</th>\n",
       "      <th>2020 Power</th>\n",
       "    </tr>\n",
       "  </thead>\n",
       "  <tbody>\n",
       "    <tr>\n",
       "      <th>0</th>\n",
       "      <td>2017</td>\n",
       "      <td>NaN</td>\n",
       "      <td>2018</td>\n",
       "      <td>NaN</td>\n",
       "      <td>2019</td>\n",
       "      <td>NaN</td>\n",
       "      <td>2020</td>\n",
       "      <td>NaN</td>\n",
       "    </tr>\n",
       "    <tr>\n",
       "      <th>1</th>\n",
       "      <td>HOURS</td>\n",
       "      <td>Total</td>\n",
       "      <td>HOURS</td>\n",
       "      <td>Total</td>\n",
       "      <td>HOURS</td>\n",
       "      <td>Total</td>\n",
       "      <td>HOURS</td>\n",
       "      <td>Total</td>\n",
       "    </tr>\n",
       "    <tr>\n",
       "      <th>2</th>\n",
       "      <td>NaN</td>\n",
       "      <td>NaN</td>\n",
       "      <td>NaN</td>\n",
       "      <td>NaN</td>\n",
       "      <td>NaN</td>\n",
       "      <td>NaN</td>\n",
       "      <td>NaN</td>\n",
       "      <td>NaN</td>\n",
       "    </tr>\n",
       "    <tr>\n",
       "      <th>3</th>\n",
       "      <td>2017-01-01 00:00:00</td>\n",
       "      <td>1523.5</td>\n",
       "      <td>2018-01-01 00:00:00</td>\n",
       "      <td>1571.8</td>\n",
       "      <td>2019-01-01 00:00:00</td>\n",
       "      <td>1832.4</td>\n",
       "      <td>2020-01-01 00:00:00</td>\n",
       "      <td>2104.4</td>\n",
       "    </tr>\n",
       "    <tr>\n",
       "      <th>4</th>\n",
       "      <td>2017-01-01 01:00:00</td>\n",
       "      <td>1568.3</td>\n",
       "      <td>2018-01-01 01:00:00</td>\n",
       "      <td>1581.5</td>\n",
       "      <td>2019-01-01 01:00:00</td>\n",
       "      <td>1856.1</td>\n",
       "      <td>2020-01-01 01:00:00</td>\n",
       "      <td>2096</td>\n",
       "    </tr>\n",
       "  </tbody>\n",
       "</table>\n",
       "</div>"
      ],
      "text/plain": [
       "             2017 Date 2017 Power            2018 Date 2018 Power  \\\n",
       "0                 2017        NaN                 2018        NaN   \n",
       "1                HOURS      Total                HOURS      Total   \n",
       "2                  NaN        NaN                  NaN        NaN   \n",
       "3  2017-01-01 00:00:00     1523.5  2018-01-01 00:00:00     1571.8   \n",
       "4  2017-01-01 01:00:00     1568.3  2018-01-01 01:00:00     1581.5   \n",
       "\n",
       "             2019 Date 2019 Power            2020 Date 2020 Power  \n",
       "0                 2019        NaN                 2020        NaN  \n",
       "1                HOURS      Total                HOURS      Total  \n",
       "2                  NaN        NaN                  NaN        NaN  \n",
       "3  2019-01-01 00:00:00     1832.4  2020-01-01 00:00:00     2104.4  \n",
       "4  2019-01-01 01:00:00     1856.1  2020-01-01 01:00:00       2096  "
      ]
     },
     "execution_count": 112,
     "metadata": {},
     "output_type": "execute_result"
    }
   ],
   "source": [
    "myData.head()"
   ]
  },
  {
   "cell_type": "code",
   "execution_count": 113,
   "metadata": {},
   "outputs": [],
   "source": [
    "# myData.drop(columns = myData.columns, index=[0, 1, 2], inplace=True)\n",
    "myData = myData.drop([0,1,2]).reset_index(drop=True)"
   ]
  },
  {
   "cell_type": "code",
   "execution_count": 114,
   "metadata": {},
   "outputs": [
    {
     "data": {
      "text/html": [
       "<div>\n",
       "<style scoped>\n",
       "    .dataframe tbody tr th:only-of-type {\n",
       "        vertical-align: middle;\n",
       "    }\n",
       "\n",
       "    .dataframe tbody tr th {\n",
       "        vertical-align: top;\n",
       "    }\n",
       "\n",
       "    .dataframe thead th {\n",
       "        text-align: right;\n",
       "    }\n",
       "</style>\n",
       "<table border=\"1\" class=\"dataframe\">\n",
       "  <thead>\n",
       "    <tr style=\"text-align: right;\">\n",
       "      <th></th>\n",
       "      <th>2017 Date</th>\n",
       "      <th>2017 Power</th>\n",
       "      <th>2018 Date</th>\n",
       "      <th>2018 Power</th>\n",
       "      <th>2019 Date</th>\n",
       "      <th>2019 Power</th>\n",
       "      <th>2020 Date</th>\n",
       "      <th>2020 Power</th>\n",
       "    </tr>\n",
       "  </thead>\n",
       "  <tbody>\n",
       "    <tr>\n",
       "      <th>0</th>\n",
       "      <td>2017-01-01 00:00:00</td>\n",
       "      <td>1523.5</td>\n",
       "      <td>2018-01-01 00:00:00</td>\n",
       "      <td>1571.8</td>\n",
       "      <td>2019-01-01 00:00:00</td>\n",
       "      <td>1832.4</td>\n",
       "      <td>2020-01-01 00:00:00</td>\n",
       "      <td>2104.4</td>\n",
       "    </tr>\n",
       "    <tr>\n",
       "      <th>1</th>\n",
       "      <td>2017-01-01 01:00:00</td>\n",
       "      <td>1568.3</td>\n",
       "      <td>2018-01-01 01:00:00</td>\n",
       "      <td>1581.5</td>\n",
       "      <td>2019-01-01 01:00:00</td>\n",
       "      <td>1856.1</td>\n",
       "      <td>2020-01-01 01:00:00</td>\n",
       "      <td>2096</td>\n",
       "    </tr>\n",
       "    <tr>\n",
       "      <th>2</th>\n",
       "      <td>2017-01-01 01:59:59.990000</td>\n",
       "      <td>1541.8</td>\n",
       "      <td>2018-01-01 02:00:00</td>\n",
       "      <td>1549.5</td>\n",
       "      <td>2019-01-01 02:00:00</td>\n",
       "      <td>1859.1</td>\n",
       "      <td>2020-01-01 01:59:59.990000</td>\n",
       "      <td>2073.8</td>\n",
       "    </tr>\n",
       "    <tr>\n",
       "      <th>3</th>\n",
       "      <td>2017-01-01 02:59:59.985000</td>\n",
       "      <td>1508</td>\n",
       "      <td>2018-01-01 03:00:00</td>\n",
       "      <td>1521.8</td>\n",
       "      <td>2019-01-01 03:00:00</td>\n",
       "      <td>1819.8</td>\n",
       "      <td>2020-01-01 02:59:59.985000</td>\n",
       "      <td>2051.1</td>\n",
       "    </tr>\n",
       "    <tr>\n",
       "      <th>4</th>\n",
       "      <td>2017-01-01 03:59:59.980000</td>\n",
       "      <td>1488.7</td>\n",
       "      <td>2018-01-01 04:00:00</td>\n",
       "      <td>1508.9</td>\n",
       "      <td>2019-01-01 04:00:00</td>\n",
       "      <td>1832.5</td>\n",
       "      <td>2020-01-01 03:59:59.980000</td>\n",
       "      <td>1947.1</td>\n",
       "    </tr>\n",
       "  </tbody>\n",
       "</table>\n",
       "</div>"
      ],
      "text/plain": [
       "                    2017 Date 2017 Power            2018 Date 2018 Power  \\\n",
       "0         2017-01-01 00:00:00     1523.5  2018-01-01 00:00:00     1571.8   \n",
       "1         2017-01-01 01:00:00     1568.3  2018-01-01 01:00:00     1581.5   \n",
       "2  2017-01-01 01:59:59.990000     1541.8  2018-01-01 02:00:00     1549.5   \n",
       "3  2017-01-01 02:59:59.985000       1508  2018-01-01 03:00:00     1521.8   \n",
       "4  2017-01-01 03:59:59.980000     1488.7  2018-01-01 04:00:00     1508.9   \n",
       "\n",
       "             2019 Date 2019 Power                   2020 Date 2020 Power  \n",
       "0  2019-01-01 00:00:00     1832.4         2020-01-01 00:00:00     2104.4  \n",
       "1  2019-01-01 01:00:00     1856.1         2020-01-01 01:00:00       2096  \n",
       "2  2019-01-01 02:00:00     1859.1  2020-01-01 01:59:59.990000     2073.8  \n",
       "3  2019-01-01 03:00:00     1819.8  2020-01-01 02:59:59.985000     2051.1  \n",
       "4  2019-01-01 04:00:00     1832.5  2020-01-01 03:59:59.980000     1947.1  "
      ]
     },
     "execution_count": 114,
     "metadata": {},
     "output_type": "execute_result"
    }
   ],
   "source": [
    "myData.head()"
   ]
  },
  {
   "cell_type": "code",
   "execution_count": 115,
   "metadata": {},
   "outputs": [
    {
     "data": {
      "text/plain": [
       "(8784, 8)"
      ]
     },
     "execution_count": 115,
     "metadata": {},
     "output_type": "execute_result"
    }
   ],
   "source": [
    "myData.shape"
   ]
  },
  {
   "cell_type": "code",
   "execution_count": 116,
   "metadata": {},
   "outputs": [],
   "source": [
    "data_2017 = myData[['2017 Date','2017 Power']]\n",
    "data_2018 = myData[['2018 Date', '2018 Power']]\n",
    "data_2019 = myData[['2019 Date', '2019 Power']]\n",
    "data_2020 = myData[['2020 Date', '2020 Power']]"
   ]
  },
  {
   "cell_type": "code",
   "execution_count": 117,
   "metadata": {},
   "outputs": [],
   "source": [
    "data_2018.columns = ['2017 Date','2017 Power']\n",
    "data_2019.columns = ['2017 Date','2017 Power']\n",
    "data_2020.columns = ['2017 Date','2017 Power']"
   ]
  },
  {
   "cell_type": "code",
   "execution_count": 118,
   "metadata": {},
   "outputs": [
    {
     "data": {
      "text/plain": [
       "2017 Date     0\n",
       "2017 Power    0\n",
       "dtype: int64"
      ]
     },
     "execution_count": 118,
     "metadata": {},
     "output_type": "execute_result"
    }
   ],
   "source": [
    "data_2017.dropna(axis=0, inplace=True)\n",
    "data_2017.isnull().sum()"
   ]
  },
  {
   "cell_type": "code",
   "execution_count": 119,
   "metadata": {},
   "outputs": [
    {
     "data": {
      "text/plain": [
       "(8760, 2)"
      ]
     },
     "execution_count": 119,
     "metadata": {},
     "output_type": "execute_result"
    }
   ],
   "source": [
    "data_2017.shape"
   ]
  },
  {
   "cell_type": "code",
   "execution_count": 120,
   "metadata": {},
   "outputs": [
    {
     "data": {
      "text/plain": [
       "2017 Date     0\n",
       "2017 Power    0\n",
       "dtype: int64"
      ]
     },
     "execution_count": 120,
     "metadata": {},
     "output_type": "execute_result"
    }
   ],
   "source": [
    "data_2018.isnull().sum()\n",
    "data_2018.dropna(axis=0,inplace=True)\n",
    "data_2018.isnull().sum()"
   ]
  },
  {
   "cell_type": "code",
   "execution_count": 121,
   "metadata": {},
   "outputs": [
    {
     "data": {
      "text/plain": [
       "(8760, 2)"
      ]
     },
     "execution_count": 121,
     "metadata": {},
     "output_type": "execute_result"
    }
   ],
   "source": [
    "data_2018.shape"
   ]
  },
  {
   "cell_type": "code",
   "execution_count": 122,
   "metadata": {},
   "outputs": [
    {
     "data": {
      "text/plain": [
       "(8752, 2)"
      ]
     },
     "execution_count": 122,
     "metadata": {},
     "output_type": "execute_result"
    }
   ],
   "source": [
    "data_2019.dropna(axis=0, inplace=True)\n",
    "data_2019.isnull().sum()\n",
    "data_2019.shape"
   ]
  },
  {
   "cell_type": "code",
   "execution_count": null,
   "metadata": {},
   "outputs": [],
   "source": []
  },
  {
   "cell_type": "code",
   "execution_count": 199,
   "metadata": {},
   "outputs": [
    {
     "data": {
      "text/plain": [
       "2017 Date     0\n",
       "2017 Power    0\n",
       "dtype: int64"
      ]
     },
     "execution_count": 199,
     "metadata": {},
     "output_type": "execute_result"
    }
   ],
   "source": [
    "fullData = data_2017\n",
    "fullData.isnull().sum()"
   ]
  },
  {
   "cell_type": "code",
   "execution_count": 200,
   "metadata": {},
   "outputs": [],
   "source": [
    "fullData = pd.concat([fullData, data_2018], axis = 0)"
   ]
  },
  {
   "cell_type": "code",
   "execution_count": 201,
   "metadata": {},
   "outputs": [
    {
     "data": {
      "text/plain": [
       "(17520, 2)"
      ]
     },
     "execution_count": 201,
     "metadata": {},
     "output_type": "execute_result"
    }
   ],
   "source": [
    "fullData.shape"
   ]
  },
  {
   "cell_type": "code",
   "execution_count": 202,
   "metadata": {},
   "outputs": [
    {
     "data": {
      "text/plain": [
       "2017 Date     0\n",
       "2017 Power    0\n",
       "dtype: int64"
      ]
     },
     "execution_count": 202,
     "metadata": {},
     "output_type": "execute_result"
    }
   ],
   "source": [
    "fullData.isnull().sum()"
   ]
  },
  {
   "cell_type": "code",
   "execution_count": 203,
   "metadata": {},
   "outputs": [],
   "source": [
    "# fullData1 = fullData1[['2017 Date', '2017 Power']]"
   ]
  },
  {
   "cell_type": "code",
   "execution_count": 204,
   "metadata": {},
   "outputs": [],
   "source": [
    "# fullData1.shape"
   ]
  },
  {
   "cell_type": "code",
   "execution_count": 205,
   "metadata": {},
   "outputs": [],
   "source": [
    "fullData = pd.concat([fullData, data_2019],axis=0)"
   ]
  },
  {
   "cell_type": "code",
   "execution_count": 206,
   "metadata": {},
   "outputs": [
    {
     "data": {
      "text/plain": [
       "(26272, 2)"
      ]
     },
     "execution_count": 206,
     "metadata": {},
     "output_type": "execute_result"
    }
   ],
   "source": [
    "fullData.shape"
   ]
  },
  {
   "cell_type": "code",
   "execution_count": 207,
   "metadata": {},
   "outputs": [],
   "source": [
    "fullData = pd.concat([fullData, data_2020], axis=0)"
   ]
  },
  {
   "cell_type": "code",
   "execution_count": 208,
   "metadata": {},
   "outputs": [
    {
     "data": {
      "text/plain": [
       "(35056, 2)"
      ]
     },
     "execution_count": 208,
     "metadata": {},
     "output_type": "execute_result"
    }
   ],
   "source": [
    "fullData.shape"
   ]
  },
  {
   "cell_type": "code",
   "execution_count": 209,
   "metadata": {},
   "outputs": [
    {
     "data": {
      "text/html": [
       "<div>\n",
       "<style scoped>\n",
       "    .dataframe tbody tr th:only-of-type {\n",
       "        vertical-align: middle;\n",
       "    }\n",
       "\n",
       "    .dataframe tbody tr th {\n",
       "        vertical-align: top;\n",
       "    }\n",
       "\n",
       "    .dataframe thead th {\n",
       "        text-align: right;\n",
       "    }\n",
       "</style>\n",
       "<table border=\"1\" class=\"dataframe\">\n",
       "  <thead>\n",
       "    <tr style=\"text-align: right;\">\n",
       "      <th></th>\n",
       "      <th>2017 Date</th>\n",
       "      <th>2017 Power</th>\n",
       "    </tr>\n",
       "  </thead>\n",
       "  <tbody>\n",
       "    <tr>\n",
       "      <th>0</th>\n",
       "      <td>2017-01-01 00:00:00</td>\n",
       "      <td>1523.5</td>\n",
       "    </tr>\n",
       "    <tr>\n",
       "      <th>1</th>\n",
       "      <td>2017-01-01 01:00:00</td>\n",
       "      <td>1568.3</td>\n",
       "    </tr>\n",
       "    <tr>\n",
       "      <th>2</th>\n",
       "      <td>2017-01-01 01:59:59.990000</td>\n",
       "      <td>1541.8</td>\n",
       "    </tr>\n",
       "    <tr>\n",
       "      <th>3</th>\n",
       "      <td>2017-01-01 02:59:59.985000</td>\n",
       "      <td>1508</td>\n",
       "    </tr>\n",
       "    <tr>\n",
       "      <th>4</th>\n",
       "      <td>2017-01-01 03:59:59.980000</td>\n",
       "      <td>1488.7</td>\n",
       "    </tr>\n",
       "  </tbody>\n",
       "</table>\n",
       "</div>"
      ],
      "text/plain": [
       "                    2017 Date 2017 Power\n",
       "0         2017-01-01 00:00:00     1523.5\n",
       "1         2017-01-01 01:00:00     1568.3\n",
       "2  2017-01-01 01:59:59.990000     1541.8\n",
       "3  2017-01-01 02:59:59.985000       1508\n",
       "4  2017-01-01 03:59:59.980000     1488.7"
      ]
     },
     "execution_count": 209,
     "metadata": {},
     "output_type": "execute_result"
    }
   ],
   "source": [
    "fullData.head()"
   ]
  },
  {
   "cell_type": "code",
   "execution_count": 210,
   "metadata": {},
   "outputs": [
    {
     "data": {
      "text/plain": [
       "(35056, 2)"
      ]
     },
     "execution_count": 210,
     "metadata": {},
     "output_type": "execute_result"
    }
   ],
   "source": [
    "fullData.shape"
   ]
  },
  {
   "cell_type": "code",
   "execution_count": 211,
   "metadata": {},
   "outputs": [],
   "source": [
    "# fullData.isnull().sum()"
   ]
  },
  {
   "cell_type": "code",
   "execution_count": 212,
   "metadata": {},
   "outputs": [
    {
     "data": {
      "text/html": [
       "<div>\n",
       "<style scoped>\n",
       "    .dataframe tbody tr th:only-of-type {\n",
       "        vertical-align: middle;\n",
       "    }\n",
       "\n",
       "    .dataframe tbody tr th {\n",
       "        vertical-align: top;\n",
       "    }\n",
       "\n",
       "    .dataframe thead th {\n",
       "        text-align: right;\n",
       "    }\n",
       "</style>\n",
       "<table border=\"1\" class=\"dataframe\">\n",
       "  <thead>\n",
       "    <tr style=\"text-align: right;\">\n",
       "      <th></th>\n",
       "      <th>2017 Date</th>\n",
       "      <th>2017 Power</th>\n",
       "    </tr>\n",
       "  </thead>\n",
       "  <tbody>\n",
       "    <tr>\n",
       "      <th>8779</th>\n",
       "      <td>2020-12-31 19:00:43.390000</td>\n",
       "      <td>0</td>\n",
       "    </tr>\n",
       "    <tr>\n",
       "      <th>8780</th>\n",
       "      <td>2020-12-31 20:00:43.395000</td>\n",
       "      <td>0</td>\n",
       "    </tr>\n",
       "    <tr>\n",
       "      <th>8781</th>\n",
       "      <td>2020-12-31 21:00:43.400000</td>\n",
       "      <td>0</td>\n",
       "    </tr>\n",
       "    <tr>\n",
       "      <th>8782</th>\n",
       "      <td>2020-12-31 22:00:43.405000</td>\n",
       "      <td>0</td>\n",
       "    </tr>\n",
       "    <tr>\n",
       "      <th>8783</th>\n",
       "      <td>2020-12-31 23:00:43.410000</td>\n",
       "      <td>0</td>\n",
       "    </tr>\n",
       "  </tbody>\n",
       "</table>\n",
       "</div>"
      ],
      "text/plain": [
       "                       2017 Date 2017 Power\n",
       "8779  2020-12-31 19:00:43.390000          0\n",
       "8780  2020-12-31 20:00:43.395000          0\n",
       "8781  2020-12-31 21:00:43.400000          0\n",
       "8782  2020-12-31 22:00:43.405000          0\n",
       "8783  2020-12-31 23:00:43.410000          0"
      ]
     },
     "execution_count": 212,
     "metadata": {},
     "output_type": "execute_result"
    }
   ],
   "source": [
    "fullData.tail()"
   ]
  },
  {
   "cell_type": "code",
   "execution_count": 213,
   "metadata": {},
   "outputs": [
    {
     "data": {
      "text/html": [
       "<div>\n",
       "<style scoped>\n",
       "    .dataframe tbody tr th:only-of-type {\n",
       "        vertical-align: middle;\n",
       "    }\n",
       "\n",
       "    .dataframe tbody tr th {\n",
       "        vertical-align: top;\n",
       "    }\n",
       "\n",
       "    .dataframe thead th {\n",
       "        text-align: right;\n",
       "    }\n",
       "</style>\n",
       "<table border=\"1\" class=\"dataframe\">\n",
       "  <thead>\n",
       "    <tr style=\"text-align: right;\">\n",
       "      <th></th>\n",
       "      <th>2017 Date</th>\n",
       "      <th>2017 Power</th>\n",
       "    </tr>\n",
       "  </thead>\n",
       "  <tbody>\n",
       "    <tr>\n",
       "      <th>0</th>\n",
       "      <td>2017-01-01 00:00:00</td>\n",
       "      <td>1523.5</td>\n",
       "    </tr>\n",
       "    <tr>\n",
       "      <th>1</th>\n",
       "      <td>2017-01-01 01:00:00</td>\n",
       "      <td>1568.3</td>\n",
       "    </tr>\n",
       "    <tr>\n",
       "      <th>2</th>\n",
       "      <td>2017-01-01 01:59:59.990000</td>\n",
       "      <td>1541.8</td>\n",
       "    </tr>\n",
       "    <tr>\n",
       "      <th>3</th>\n",
       "      <td>2017-01-01 02:59:59.985000</td>\n",
       "      <td>1508</td>\n",
       "    </tr>\n",
       "    <tr>\n",
       "      <th>4</th>\n",
       "      <td>2017-01-01 03:59:59.980000</td>\n",
       "      <td>1488.7</td>\n",
       "    </tr>\n",
       "    <tr>\n",
       "      <th>...</th>\n",
       "      <td>...</td>\n",
       "      <td>...</td>\n",
       "    </tr>\n",
       "    <tr>\n",
       "      <th>35051</th>\n",
       "      <td>2020-12-31 19:00:43.390000</td>\n",
       "      <td>0</td>\n",
       "    </tr>\n",
       "    <tr>\n",
       "      <th>35052</th>\n",
       "      <td>2020-12-31 20:00:43.395000</td>\n",
       "      <td>0</td>\n",
       "    </tr>\n",
       "    <tr>\n",
       "      <th>35053</th>\n",
       "      <td>2020-12-31 21:00:43.400000</td>\n",
       "      <td>0</td>\n",
       "    </tr>\n",
       "    <tr>\n",
       "      <th>35054</th>\n",
       "      <td>2020-12-31 22:00:43.405000</td>\n",
       "      <td>0</td>\n",
       "    </tr>\n",
       "    <tr>\n",
       "      <th>35055</th>\n",
       "      <td>2020-12-31 23:00:43.410000</td>\n",
       "      <td>0</td>\n",
       "    </tr>\n",
       "  </tbody>\n",
       "</table>\n",
       "<p>35056 rows × 2 columns</p>\n",
       "</div>"
      ],
      "text/plain": [
       "                        2017 Date 2017 Power\n",
       "0             2017-01-01 00:00:00     1523.5\n",
       "1             2017-01-01 01:00:00     1568.3\n",
       "2      2017-01-01 01:59:59.990000     1541.8\n",
       "3      2017-01-01 02:59:59.985000       1508\n",
       "4      2017-01-01 03:59:59.980000     1488.7\n",
       "...                           ...        ...\n",
       "35051  2020-12-31 19:00:43.390000          0\n",
       "35052  2020-12-31 20:00:43.395000          0\n",
       "35053  2020-12-31 21:00:43.400000          0\n",
       "35054  2020-12-31 22:00:43.405000          0\n",
       "35055  2020-12-31 23:00:43.410000          0\n",
       "\n",
       "[35056 rows x 2 columns]"
      ]
     },
     "execution_count": 213,
     "metadata": {},
     "output_type": "execute_result"
    }
   ],
   "source": [
    "fullData.reset_index(drop=True)"
   ]
  },
  {
   "cell_type": "code",
   "execution_count": 214,
   "metadata": {},
   "outputs": [],
   "source": [
    "fullData.columns = ['Date', 'Power']"
   ]
  },
  {
   "cell_type": "code",
   "execution_count": 215,
   "metadata": {},
   "outputs": [
    {
     "data": {
      "text/plain": [
       "Date     object\n",
       "Power    object\n",
       "dtype: object"
      ]
     },
     "execution_count": 215,
     "metadata": {},
     "output_type": "execute_result"
    }
   ],
   "source": [
    "fullData.dtypes"
   ]
  },
  {
   "cell_type": "code",
   "execution_count": 216,
   "metadata": {},
   "outputs": [
    {
     "data": {
      "text/plain": [
       "0"
      ]
     },
     "execution_count": 216,
     "metadata": {},
     "output_type": "execute_result"
    }
   ],
   "source": [
    "fullData.Date.isnull().sum()"
   ]
  },
  {
   "cell_type": "code",
   "execution_count": 217,
   "metadata": {},
   "outputs": [
    {
     "data": {
      "text/plain": [
       "(35056, 2)"
      ]
     },
     "execution_count": 217,
     "metadata": {},
     "output_type": "execute_result"
    }
   ],
   "source": [
    "fullData.shape"
   ]
  },
  {
   "cell_type": "code",
   "execution_count": 218,
   "metadata": {},
   "outputs": [
    {
     "data": {
      "text/html": [
       "<div>\n",
       "<style scoped>\n",
       "    .dataframe tbody tr th:only-of-type {\n",
       "        vertical-align: middle;\n",
       "    }\n",
       "\n",
       "    .dataframe tbody tr th {\n",
       "        vertical-align: top;\n",
       "    }\n",
       "\n",
       "    .dataframe thead th {\n",
       "        text-align: right;\n",
       "    }\n",
       "</style>\n",
       "<table border=\"1\" class=\"dataframe\">\n",
       "  <thead>\n",
       "    <tr style=\"text-align: right;\">\n",
       "      <th></th>\n",
       "      <th>Date</th>\n",
       "      <th>Power</th>\n",
       "    </tr>\n",
       "  </thead>\n",
       "  <tbody>\n",
       "    <tr>\n",
       "      <th>5031</th>\n",
       "      <td>2019-07-29 15:00:00</td>\n",
       "      <td>1988.3</td>\n",
       "    </tr>\n",
       "    <tr>\n",
       "      <th>7194</th>\n",
       "      <td>2020-10-26 18:00:35.465000</td>\n",
       "      <td>0</td>\n",
       "    </tr>\n",
       "    <tr>\n",
       "      <th>3902</th>\n",
       "      <td>2020-06-11 14:00:19.005000</td>\n",
       "      <td>0</td>\n",
       "    </tr>\n",
       "  </tbody>\n",
       "</table>\n",
       "</div>"
      ],
      "text/plain": [
       "                            Date   Power\n",
       "5031         2019-07-29 15:00:00  1988.3\n",
       "7194  2020-10-26 18:00:35.465000       0\n",
       "3902  2020-06-11 14:00:19.005000       0"
      ]
     },
     "execution_count": 218,
     "metadata": {},
     "output_type": "execute_result"
    }
   ],
   "source": [
    "fullData.sample(3)"
   ]
  },
  {
   "cell_type": "code",
   "execution_count": 219,
   "metadata": {},
   "outputs": [],
   "source": [
    "fullData['Date'] = pd.to_datetime(fullData['Date'])"
   ]
  },
  {
   "cell_type": "code",
   "execution_count": 220,
   "metadata": {},
   "outputs": [
    {
     "data": {
      "text/plain": [
       "Date     datetime64[ns]\n",
       "Power            object\n",
       "dtype: object"
      ]
     },
     "execution_count": 220,
     "metadata": {},
     "output_type": "execute_result"
    }
   ],
   "source": [
    "fullData.dtypes"
   ]
  },
  {
   "cell_type": "code",
   "execution_count": 221,
   "metadata": {},
   "outputs": [],
   "source": [
    "fullData.index = pd.to_datetime(fullData.index)"
   ]
  },
  {
   "cell_type": "code",
   "execution_count": 222,
   "metadata": {},
   "outputs": [],
   "source": [
    "holidays_2017 = ['2017-01-02', '2017-03-06', '2017-05-01', '2017-05-25', '2017-07-03','2017-09-21','2017-12-26']\n",
    "holidays_2018 = ['2018-01-01', '2018-03-06', '2018-05-01', '2018-05-25', '2018-07-02', '2018-09-21','2018-12-26']\n",
    "holidays_2019 = ['2019-01-01', '2019-01-07', '2019-03-06', '2019-05-01', '2019-08-05', '2019-09-23','2019-12-06', '2019-12-26']\n",
    "holidays_2020 = ['2020-01-01', '2020-03-06']\n",
    "\n",
    "special_events_2017 = ['2017-04-14','2017-04-17', '2017-06-26','2017-09-01', '2017-12-25']\n",
    "special_events_2018 = ['2018-04-30', '2018-04-02', '2018-06-15','2018-08-22', '2018-12-25']\n",
    "special_events_2019 = ['2019-04-19', '2019-04-22', '2019-06-05', '2019-08-12', '2019-12-25']"
   ]
  },
  {
   "cell_type": "code",
   "execution_count": 223,
   "metadata": {},
   "outputs": [],
   "source": [
    "holidays = holidays_2017 + holidays_2018 + holidays_2019 + holidays_2020\n",
    "holidays = [parse(hol).date() for hol in holidays]"
   ]
  },
  {
   "cell_type": "code",
   "execution_count": 224,
   "metadata": {},
   "outputs": [],
   "source": [
    "special_events = special_events_2017 + special_events_2018 + special_events_2019\n",
    "special_events = [parse(event).date() for event in special_events]"
   ]
  },
  {
   "cell_type": "code",
   "execution_count": 225,
   "metadata": {},
   "outputs": [],
   "source": [
    "fullData['ActualDate'] = fullData['Date'].dt.date"
   ]
  },
  {
   "cell_type": "code",
   "execution_count": 226,
   "metadata": {},
   "outputs": [],
   "source": [
    "fullData['Holiday'] = fullData['ActualDate'].isin(holidays) * 1\n",
    "fullData['SpecialEvent'] = fullData['ActualDate'].isin(special_events) * 1"
   ]
  },
  {
   "cell_type": "code",
   "execution_count": 307,
   "metadata": {},
   "outputs": [],
   "source": [
    "fullData['Year'] = fullData['Date'].dt.year"
   ]
  },
  {
   "cell_type": "code",
   "execution_count": 308,
   "metadata": {},
   "outputs": [],
   "source": [
    "fullData['Month'] = fullData['Date'].dt.month"
   ]
  },
  {
   "cell_type": "code",
   "execution_count": 309,
   "metadata": {},
   "outputs": [],
   "source": [
    "fullData['Day'] = fullData['Date'].dt.day"
   ]
  },
  {
   "cell_type": "code",
   "execution_count": 310,
   "metadata": {},
   "outputs": [],
   "source": [
    "fullData['Hour']  = fullData['Date'].dt.hour"
   ]
  },
  {
   "cell_type": "code",
   "execution_count": 311,
   "metadata": {},
   "outputs": [],
   "source": [
    "fullData['DayOfYear'] = fullData['Date'].dt.dayofyear"
   ]
  },
  {
   "cell_type": "code",
   "execution_count": 312,
   "metadata": {},
   "outputs": [],
   "source": [
    "fullData[\"weekday\"] = fullData['Date'].dt.weekday"
   ]
  },
  {
   "cell_type": "code",
   "execution_count": 313,
   "metadata": {},
   "outputs": [],
   "source": [
    "fullData['is_weekend'] = fullData.weekday.isin([5,6])*1"
   ]
  },
  {
   "cell_type": "code",
   "execution_count": 314,
   "metadata": {},
   "outputs": [],
   "source": [
    "dry_season = [10, 11, 12, 1, 2]\n",
    "rainy_season = [3,4,5,6,7,8,9]"
   ]
  },
  {
   "cell_type": "code",
   "execution_count": 315,
   "metadata": {},
   "outputs": [],
   "source": [
    "fullData['Season'] = fullData.Month.isin(dry_season) * 1 "
   ]
  },
  {
   "cell_type": "code",
   "execution_count": 316,
   "metadata": {},
   "outputs": [],
   "source": [
    "finalData = fullData.drop(['Date', 'ActualDate'], axis=1)"
   ]
  },
  {
   "cell_type": "code",
   "execution_count": 317,
   "metadata": {},
   "outputs": [
    {
     "data": {
      "text/html": [
       "<div>\n",
       "<style scoped>\n",
       "    .dataframe tbody tr th:only-of-type {\n",
       "        vertical-align: middle;\n",
       "    }\n",
       "\n",
       "    .dataframe tbody tr th {\n",
       "        vertical-align: top;\n",
       "    }\n",
       "\n",
       "    .dataframe thead th {\n",
       "        text-align: right;\n",
       "    }\n",
       "</style>\n",
       "<table border=\"1\" class=\"dataframe\">\n",
       "  <thead>\n",
       "    <tr style=\"text-align: right;\">\n",
       "      <th></th>\n",
       "      <th>Power</th>\n",
       "      <th>Holiday</th>\n",
       "      <th>SpecialEvent</th>\n",
       "      <th>Year</th>\n",
       "      <th>Month</th>\n",
       "      <th>Day</th>\n",
       "      <th>Hour</th>\n",
       "      <th>DayOfYear</th>\n",
       "      <th>weekday</th>\n",
       "      <th>is_weekend</th>\n",
       "      <th>Season</th>\n",
       "    </tr>\n",
       "  </thead>\n",
       "  <tbody>\n",
       "    <tr>\n",
       "      <th>1970-01-01 00:00:00.000002164</th>\n",
       "      <td>1665.0</td>\n",
       "      <td>0</td>\n",
       "      <td>0</td>\n",
       "      <td>2017</td>\n",
       "      <td>4</td>\n",
       "      <td>1</td>\n",
       "      <td>3</td>\n",
       "      <td>91</td>\n",
       "      <td>5</td>\n",
       "      <td>1</td>\n",
       "      <td>0</td>\n",
       "    </tr>\n",
       "    <tr>\n",
       "      <th>1970-01-01 00:00:00.000003346</th>\n",
       "      <td>1647.1</td>\n",
       "      <td>0</td>\n",
       "      <td>0</td>\n",
       "      <td>2018</td>\n",
       "      <td>5</td>\n",
       "      <td>20</td>\n",
       "      <td>10</td>\n",
       "      <td>140</td>\n",
       "      <td>6</td>\n",
       "      <td>1</td>\n",
       "      <td>0</td>\n",
       "    </tr>\n",
       "    <tr>\n",
       "      <th>1970-01-01 00:00:00.000002864</th>\n",
       "      <td>0.0</td>\n",
       "      <td>0</td>\n",
       "      <td>0</td>\n",
       "      <td>2020</td>\n",
       "      <td>4</td>\n",
       "      <td>29</td>\n",
       "      <td>8</td>\n",
       "      <td>120</td>\n",
       "      <td>2</td>\n",
       "      <td>0</td>\n",
       "      <td>0</td>\n",
       "    </tr>\n",
       "    <tr>\n",
       "      <th>1970-01-01 00:00:00.000003071</th>\n",
       "      <td>1883.6</td>\n",
       "      <td>0</td>\n",
       "      <td>0</td>\n",
       "      <td>2017</td>\n",
       "      <td>5</td>\n",
       "      <td>8</td>\n",
       "      <td>22</td>\n",
       "      <td>128</td>\n",
       "      <td>0</td>\n",
       "      <td>0</td>\n",
       "      <td>0</td>\n",
       "    </tr>\n",
       "  </tbody>\n",
       "</table>\n",
       "</div>"
      ],
      "text/plain": [
       "                                Power  Holiday  SpecialEvent  Year  Month  \\\n",
       "1970-01-01 00:00:00.000002164  1665.0        0             0  2017      4   \n",
       "1970-01-01 00:00:00.000003346  1647.1        0             0  2018      5   \n",
       "1970-01-01 00:00:00.000002864     0.0        0             0  2020      4   \n",
       "1970-01-01 00:00:00.000003071  1883.6        0             0  2017      5   \n",
       "\n",
       "                               Day  Hour  DayOfYear  weekday  is_weekend  \\\n",
       "1970-01-01 00:00:00.000002164    1     3         91        5           1   \n",
       "1970-01-01 00:00:00.000003346   20    10        140        6           1   \n",
       "1970-01-01 00:00:00.000002864   29     8        120        2           0   \n",
       "1970-01-01 00:00:00.000003071    8    22        128        0           0   \n",
       "\n",
       "                               Season  \n",
       "1970-01-01 00:00:00.000002164       0  \n",
       "1970-01-01 00:00:00.000003346       0  \n",
       "1970-01-01 00:00:00.000002864       0  \n",
       "1970-01-01 00:00:00.000003071       0  "
      ]
     },
     "execution_count": 317,
     "metadata": {},
     "output_type": "execute_result"
    }
   ],
   "source": [
    "finalData.sample(4)"
   ]
  },
  {
   "cell_type": "code",
   "execution_count": 318,
   "metadata": {},
   "outputs": [
    {
     "data": {
      "text/html": [
       "<div>\n",
       "<style scoped>\n",
       "    .dataframe tbody tr th:only-of-type {\n",
       "        vertical-align: middle;\n",
       "    }\n",
       "\n",
       "    .dataframe tbody tr th {\n",
       "        vertical-align: top;\n",
       "    }\n",
       "\n",
       "    .dataframe thead th {\n",
       "        text-align: right;\n",
       "    }\n",
       "</style>\n",
       "<table border=\"1\" class=\"dataframe\">\n",
       "  <thead>\n",
       "    <tr style=\"text-align: right;\">\n",
       "      <th></th>\n",
       "      <th>Power</th>\n",
       "      <th>Holiday</th>\n",
       "      <th>SpecialEvent</th>\n",
       "      <th>Year</th>\n",
       "      <th>Month</th>\n",
       "      <th>Day</th>\n",
       "      <th>Hour</th>\n",
       "      <th>DayOfYear</th>\n",
       "      <th>weekday</th>\n",
       "      <th>is_weekend</th>\n",
       "      <th>Season</th>\n",
       "    </tr>\n",
       "  </thead>\n",
       "  <tbody>\n",
       "    <tr>\n",
       "      <th>1970-01-01 00:00:00.000000192</th>\n",
       "      <td>0.0</td>\n",
       "      <td>0</td>\n",
       "      <td>0</td>\n",
       "      <td>2020</td>\n",
       "      <td>1</td>\n",
       "      <td>9</td>\n",
       "      <td>0</td>\n",
       "      <td>9</td>\n",
       "      <td>3</td>\n",
       "      <td>0</td>\n",
       "      <td>1</td>\n",
       "    </tr>\n",
       "    <tr>\n",
       "      <th>1970-01-01 00:00:00.000000193</th>\n",
       "      <td>0.0</td>\n",
       "      <td>0</td>\n",
       "      <td>0</td>\n",
       "      <td>2020</td>\n",
       "      <td>1</td>\n",
       "      <td>9</td>\n",
       "      <td>1</td>\n",
       "      <td>9</td>\n",
       "      <td>3</td>\n",
       "      <td>0</td>\n",
       "      <td>1</td>\n",
       "    </tr>\n",
       "    <tr>\n",
       "      <th>1970-01-01 00:00:00.000000194</th>\n",
       "      <td>0.0</td>\n",
       "      <td>0</td>\n",
       "      <td>0</td>\n",
       "      <td>2020</td>\n",
       "      <td>1</td>\n",
       "      <td>9</td>\n",
       "      <td>2</td>\n",
       "      <td>9</td>\n",
       "      <td>3</td>\n",
       "      <td>0</td>\n",
       "      <td>1</td>\n",
       "    </tr>\n",
       "    <tr>\n",
       "      <th>1970-01-01 00:00:00.000000195</th>\n",
       "      <td>0.0</td>\n",
       "      <td>0</td>\n",
       "      <td>0</td>\n",
       "      <td>2020</td>\n",
       "      <td>1</td>\n",
       "      <td>9</td>\n",
       "      <td>3</td>\n",
       "      <td>9</td>\n",
       "      <td>3</td>\n",
       "      <td>0</td>\n",
       "      <td>1</td>\n",
       "    </tr>\n",
       "    <tr>\n",
       "      <th>1970-01-01 00:00:00.000000196</th>\n",
       "      <td>0.0</td>\n",
       "      <td>0</td>\n",
       "      <td>0</td>\n",
       "      <td>2020</td>\n",
       "      <td>1</td>\n",
       "      <td>9</td>\n",
       "      <td>4</td>\n",
       "      <td>9</td>\n",
       "      <td>3</td>\n",
       "      <td>0</td>\n",
       "      <td>1</td>\n",
       "    </tr>\n",
       "    <tr>\n",
       "      <th>...</th>\n",
       "      <td>...</td>\n",
       "      <td>...</td>\n",
       "      <td>...</td>\n",
       "      <td>...</td>\n",
       "      <td>...</td>\n",
       "      <td>...</td>\n",
       "      <td>...</td>\n",
       "      <td>...</td>\n",
       "      <td>...</td>\n",
       "      <td>...</td>\n",
       "      <td>...</td>\n",
       "    </tr>\n",
       "    <tr>\n",
       "      <th>1970-01-01 00:00:00.000008779</th>\n",
       "      <td>0.0</td>\n",
       "      <td>0</td>\n",
       "      <td>0</td>\n",
       "      <td>2020</td>\n",
       "      <td>12</td>\n",
       "      <td>31</td>\n",
       "      <td>19</td>\n",
       "      <td>366</td>\n",
       "      <td>3</td>\n",
       "      <td>0</td>\n",
       "      <td>1</td>\n",
       "    </tr>\n",
       "    <tr>\n",
       "      <th>1970-01-01 00:00:00.000008780</th>\n",
       "      <td>0.0</td>\n",
       "      <td>0</td>\n",
       "      <td>0</td>\n",
       "      <td>2020</td>\n",
       "      <td>12</td>\n",
       "      <td>31</td>\n",
       "      <td>20</td>\n",
       "      <td>366</td>\n",
       "      <td>3</td>\n",
       "      <td>0</td>\n",
       "      <td>1</td>\n",
       "    </tr>\n",
       "    <tr>\n",
       "      <th>1970-01-01 00:00:00.000008781</th>\n",
       "      <td>0.0</td>\n",
       "      <td>0</td>\n",
       "      <td>0</td>\n",
       "      <td>2020</td>\n",
       "      <td>12</td>\n",
       "      <td>31</td>\n",
       "      <td>21</td>\n",
       "      <td>366</td>\n",
       "      <td>3</td>\n",
       "      <td>0</td>\n",
       "      <td>1</td>\n",
       "    </tr>\n",
       "    <tr>\n",
       "      <th>1970-01-01 00:00:00.000008782</th>\n",
       "      <td>0.0</td>\n",
       "      <td>0</td>\n",
       "      <td>0</td>\n",
       "      <td>2020</td>\n",
       "      <td>12</td>\n",
       "      <td>31</td>\n",
       "      <td>22</td>\n",
       "      <td>366</td>\n",
       "      <td>3</td>\n",
       "      <td>0</td>\n",
       "      <td>1</td>\n",
       "    </tr>\n",
       "    <tr>\n",
       "      <th>1970-01-01 00:00:00.000008783</th>\n",
       "      <td>0.0</td>\n",
       "      <td>0</td>\n",
       "      <td>0</td>\n",
       "      <td>2020</td>\n",
       "      <td>12</td>\n",
       "      <td>31</td>\n",
       "      <td>23</td>\n",
       "      <td>366</td>\n",
       "      <td>3</td>\n",
       "      <td>0</td>\n",
       "      <td>1</td>\n",
       "    </tr>\n",
       "  </tbody>\n",
       "</table>\n",
       "<p>8592 rows × 11 columns</p>\n",
       "</div>"
      ],
      "text/plain": [
       "                               Power  Holiday  SpecialEvent  Year  Month  Day  \\\n",
       "1970-01-01 00:00:00.000000192    0.0        0             0  2020      1    9   \n",
       "1970-01-01 00:00:00.000000193    0.0        0             0  2020      1    9   \n",
       "1970-01-01 00:00:00.000000194    0.0        0             0  2020      1    9   \n",
       "1970-01-01 00:00:00.000000195    0.0        0             0  2020      1    9   \n",
       "1970-01-01 00:00:00.000000196    0.0        0             0  2020      1    9   \n",
       "...                              ...      ...           ...   ...    ...  ...   \n",
       "1970-01-01 00:00:00.000008779    0.0        0             0  2020     12   31   \n",
       "1970-01-01 00:00:00.000008780    0.0        0             0  2020     12   31   \n",
       "1970-01-01 00:00:00.000008781    0.0        0             0  2020     12   31   \n",
       "1970-01-01 00:00:00.000008782    0.0        0             0  2020     12   31   \n",
       "1970-01-01 00:00:00.000008783    0.0        0             0  2020     12   31   \n",
       "\n",
       "                               Hour  DayOfYear  weekday  is_weekend  Season  \n",
       "1970-01-01 00:00:00.000000192     0          9        3           0       1  \n",
       "1970-01-01 00:00:00.000000193     1          9        3           0       1  \n",
       "1970-01-01 00:00:00.000000194     2          9        3           0       1  \n",
       "1970-01-01 00:00:00.000000195     3          9        3           0       1  \n",
       "1970-01-01 00:00:00.000000196     4          9        3           0       1  \n",
       "...                             ...        ...      ...         ...     ...  \n",
       "1970-01-01 00:00:00.000008779    19        366        3           0       1  \n",
       "1970-01-01 00:00:00.000008780    20        366        3           0       1  \n",
       "1970-01-01 00:00:00.000008781    21        366        3           0       1  \n",
       "1970-01-01 00:00:00.000008782    22        366        3           0       1  \n",
       "1970-01-01 00:00:00.000008783    23        366        3           0       1  \n",
       "\n",
       "[8592 rows x 11 columns]"
      ]
     },
     "execution_count": 318,
     "metadata": {},
     "output_type": "execute_result"
    }
   ],
   "source": [
    "finalData[finalData['Power'] == 0]"
   ]
  },
  {
   "cell_type": "code",
   "execution_count": 319,
   "metadata": {},
   "outputs": [
    {
     "data": {
      "text/plain": [
       "(35056, 11)"
      ]
     },
     "execution_count": 319,
     "metadata": {},
     "output_type": "execute_result"
    }
   ],
   "source": [
    "finalData.shape"
   ]
  },
  {
   "cell_type": "code",
   "execution_count": 320,
   "metadata": {},
   "outputs": [],
   "source": [
    "# finalData.drop(finalData[finalData['Power'] == 0].index, inplace=True)"
   ]
  },
  {
   "cell_type": "code",
   "execution_count": 321,
   "metadata": {},
   "outputs": [],
   "source": [
    "finalData = finalData[finalData['Power'] != 0]"
   ]
  },
  {
   "cell_type": "code",
   "execution_count": 322,
   "metadata": {},
   "outputs": [
    {
     "data": {
      "text/html": [
       "<div>\n",
       "<style scoped>\n",
       "    .dataframe tbody tr th:only-of-type {\n",
       "        vertical-align: middle;\n",
       "    }\n",
       "\n",
       "    .dataframe tbody tr th {\n",
       "        vertical-align: top;\n",
       "    }\n",
       "\n",
       "    .dataframe thead th {\n",
       "        text-align: right;\n",
       "    }\n",
       "</style>\n",
       "<table border=\"1\" class=\"dataframe\">\n",
       "  <thead>\n",
       "    <tr style=\"text-align: right;\">\n",
       "      <th></th>\n",
       "      <th>Power</th>\n",
       "      <th>Holiday</th>\n",
       "      <th>SpecialEvent</th>\n",
       "      <th>Year</th>\n",
       "      <th>Month</th>\n",
       "      <th>Day</th>\n",
       "      <th>Hour</th>\n",
       "      <th>DayOfYear</th>\n",
       "      <th>weekday</th>\n",
       "      <th>is_weekend</th>\n",
       "      <th>Season</th>\n",
       "    </tr>\n",
       "  </thead>\n",
       "  <tbody>\n",
       "  </tbody>\n",
       "</table>\n",
       "</div>"
      ],
      "text/plain": [
       "Empty DataFrame\n",
       "Columns: [Power, Holiday, SpecialEvent, Year, Month, Day, Hour, DayOfYear, weekday, is_weekend, Season]\n",
       "Index: []"
      ]
     },
     "execution_count": 322,
     "metadata": {},
     "output_type": "execute_result"
    }
   ],
   "source": [
    "finalData[finalData['Power'] == 0]"
   ]
  },
  {
   "cell_type": "code",
   "execution_count": 323,
   "metadata": {},
   "outputs": [
    {
     "data": {
      "text/plain": [
       "(26464, 11)"
      ]
     },
     "execution_count": 323,
     "metadata": {},
     "output_type": "execute_result"
    }
   ],
   "source": [
    "finalData.shape"
   ]
  },
  {
   "cell_type": "code",
   "execution_count": 324,
   "metadata": {},
   "outputs": [
    {
     "data": {
      "text/plain": [
       "Power           0\n",
       "Holiday         0\n",
       "SpecialEvent    0\n",
       "Year            0\n",
       "Month           0\n",
       "Day             0\n",
       "Hour            0\n",
       "DayOfYear       0\n",
       "weekday         0\n",
       "is_weekend      0\n",
       "Season          0\n",
       "dtype: int64"
      ]
     },
     "execution_count": 324,
     "metadata": {},
     "output_type": "execute_result"
    }
   ],
   "source": [
    "finalData.isnull().sum()"
   ]
  },
  {
   "cell_type": "code",
   "execution_count": 325,
   "metadata": {},
   "outputs": [
    {
     "data": {
      "text/html": [
       "<div>\n",
       "<style scoped>\n",
       "    .dataframe tbody tr th:only-of-type {\n",
       "        vertical-align: middle;\n",
       "    }\n",
       "\n",
       "    .dataframe tbody tr th {\n",
       "        vertical-align: top;\n",
       "    }\n",
       "\n",
       "    .dataframe thead th {\n",
       "        text-align: right;\n",
       "    }\n",
       "</style>\n",
       "<table border=\"1\" class=\"dataframe\">\n",
       "  <thead>\n",
       "    <tr style=\"text-align: right;\">\n",
       "      <th></th>\n",
       "      <th>Power</th>\n",
       "      <th>Holiday</th>\n",
       "      <th>SpecialEvent</th>\n",
       "      <th>Year</th>\n",
       "      <th>Month</th>\n",
       "      <th>Day</th>\n",
       "      <th>Hour</th>\n",
       "      <th>DayOfYear</th>\n",
       "      <th>weekday</th>\n",
       "      <th>is_weekend</th>\n",
       "      <th>Season</th>\n",
       "    </tr>\n",
       "  </thead>\n",
       "  <tbody>\n",
       "    <tr>\n",
       "      <th>1970-01-01 00:00:00.000000000</th>\n",
       "      <td>1523.5</td>\n",
       "      <td>0</td>\n",
       "      <td>0</td>\n",
       "      <td>2017</td>\n",
       "      <td>1</td>\n",
       "      <td>1</td>\n",
       "      <td>0</td>\n",
       "      <td>1</td>\n",
       "      <td>6</td>\n",
       "      <td>1</td>\n",
       "      <td>1</td>\n",
       "    </tr>\n",
       "    <tr>\n",
       "      <th>1970-01-01 00:00:00.000000001</th>\n",
       "      <td>1568.3</td>\n",
       "      <td>0</td>\n",
       "      <td>0</td>\n",
       "      <td>2017</td>\n",
       "      <td>1</td>\n",
       "      <td>1</td>\n",
       "      <td>1</td>\n",
       "      <td>1</td>\n",
       "      <td>6</td>\n",
       "      <td>1</td>\n",
       "      <td>1</td>\n",
       "    </tr>\n",
       "    <tr>\n",
       "      <th>1970-01-01 00:00:00.000000002</th>\n",
       "      <td>1541.8</td>\n",
       "      <td>0</td>\n",
       "      <td>0</td>\n",
       "      <td>2017</td>\n",
       "      <td>1</td>\n",
       "      <td>1</td>\n",
       "      <td>1</td>\n",
       "      <td>1</td>\n",
       "      <td>6</td>\n",
       "      <td>1</td>\n",
       "      <td>1</td>\n",
       "    </tr>\n",
       "    <tr>\n",
       "      <th>1970-01-01 00:00:00.000000003</th>\n",
       "      <td>1508.0</td>\n",
       "      <td>0</td>\n",
       "      <td>0</td>\n",
       "      <td>2017</td>\n",
       "      <td>1</td>\n",
       "      <td>1</td>\n",
       "      <td>2</td>\n",
       "      <td>1</td>\n",
       "      <td>6</td>\n",
       "      <td>1</td>\n",
       "      <td>1</td>\n",
       "    </tr>\n",
       "    <tr>\n",
       "      <th>1970-01-01 00:00:00.000000004</th>\n",
       "      <td>1488.7</td>\n",
       "      <td>0</td>\n",
       "      <td>0</td>\n",
       "      <td>2017</td>\n",
       "      <td>1</td>\n",
       "      <td>1</td>\n",
       "      <td>3</td>\n",
       "      <td>1</td>\n",
       "      <td>6</td>\n",
       "      <td>1</td>\n",
       "      <td>1</td>\n",
       "    </tr>\n",
       "  </tbody>\n",
       "</table>\n",
       "</div>"
      ],
      "text/plain": [
       "                                Power  Holiday  SpecialEvent  Year  Month  \\\n",
       "1970-01-01 00:00:00.000000000  1523.5        0             0  2017      1   \n",
       "1970-01-01 00:00:00.000000001  1568.3        0             0  2017      1   \n",
       "1970-01-01 00:00:00.000000002  1541.8        0             0  2017      1   \n",
       "1970-01-01 00:00:00.000000003  1508.0        0             0  2017      1   \n",
       "1970-01-01 00:00:00.000000004  1488.7        0             0  2017      1   \n",
       "\n",
       "                               Day  Hour  DayOfYear  weekday  is_weekend  \\\n",
       "1970-01-01 00:00:00.000000000    1     0          1        6           1   \n",
       "1970-01-01 00:00:00.000000001    1     1          1        6           1   \n",
       "1970-01-01 00:00:00.000000002    1     1          1        6           1   \n",
       "1970-01-01 00:00:00.000000003    1     2          1        6           1   \n",
       "1970-01-01 00:00:00.000000004    1     3          1        6           1   \n",
       "\n",
       "                               Season  \n",
       "1970-01-01 00:00:00.000000000       1  \n",
       "1970-01-01 00:00:00.000000001       1  \n",
       "1970-01-01 00:00:00.000000002       1  \n",
       "1970-01-01 00:00:00.000000003       1  \n",
       "1970-01-01 00:00:00.000000004       1  "
      ]
     },
     "execution_count": 325,
     "metadata": {},
     "output_type": "execute_result"
    }
   ],
   "source": [
    "finalData.head()"
   ]
  },
  {
   "cell_type": "code",
   "execution_count": 326,
   "metadata": {},
   "outputs": [],
   "source": [
    "finalData[['Power']] = finalData[['Power']].astype('float')"
   ]
  },
  {
   "cell_type": "code",
   "execution_count": 327,
   "metadata": {},
   "outputs": [],
   "source": [
    "data17 = finalData[finalData['Year'] == 2017]\n",
    "data18 = finalData[finalData['Year'] == 2018]\n",
    "data19 = finalData[finalData['Year'] == 2019]\n",
    "data20 = finalData[finalData['Year'] == 2020]"
   ]
  },
  {
   "cell_type": "code",
   "execution_count": 328,
   "metadata": {},
   "outputs": [],
   "source": [
    "train = pd.concat([data17, data18], axis=0)"
   ]
  },
  {
   "cell_type": "code",
   "execution_count": 329,
   "metadata": {},
   "outputs": [],
   "source": [
    "# train.head()\n",
    "# finalData.head()"
   ]
  },
  {
   "cell_type": "code",
   "execution_count": 330,
   "metadata": {},
   "outputs": [],
   "source": [
    "# Seasonal\n",
    "# Special events\n",
    "# "
   ]
  },
  {
   "cell_type": "markdown",
   "metadata": {},
   "source": [
    "#### Cross validation"
   ]
  },
  {
   "cell_type": "code",
   "execution_count": 331,
   "metadata": {},
   "outputs": [],
   "source": [
    "# for time-series cross-validation set 5 folds \n",
    "tscv = TimeSeriesSplit(n_splits=5)"
   ]
  },
  {
   "cell_type": "code",
   "execution_count": 390,
   "metadata": {},
   "outputs": [],
   "source": [
    "def timeseries_train_test_split(X, y, test_size):\n",
    "    \"\"\"\n",
    "        Perform train-test split with respect to time series structure\n",
    "    \"\"\"\n",
    "    \n",
    "    # get the index after which test set starts\n",
    "    test_index = int(len(X)*(1-test_size))\n",
    "    \n",
    "    X_train = X.iloc[:test_index]\n",
    "    y_train = y.iloc[:test_index]\n",
    "    X_test = X.iloc[test_index:]\n",
    "    y_test = y.iloc[test_index:]\n",
    "    \n",
    "    return X_train, X_test, y_train, y_test"
   ]
  },
  {
   "cell_type": "code",
   "execution_count": 391,
   "metadata": {},
   "outputs": [],
   "source": [
    "def mean_absolute_percentage_error(y_true, y_pred): \n",
    "    return np.mean(np.abs((y_true - y_pred) / y_true)) * 100"
   ]
  },
  {
   "cell_type": "code",
   "execution_count": 392,
   "metadata": {},
   "outputs": [],
   "source": [
    "y = finalData.dropna().Power\n",
    "X = finalData.dropna().drop(['Power'], axis=1)\n",
    "\n",
    "# reserve 30% of data for testing\n",
    "X_train, X_test, y_train, y_test = timeseries_train_test_split(X, y, test_size=0.3)"
   ]
  },
  {
   "cell_type": "code",
   "execution_count": 393,
   "metadata": {},
   "outputs": [],
   "source": [
    "# model = XGBRegressor(learning_rate=0.05, n_estimators=4000).fit(X_train, y_train)\n",
    "svm = SVR().fit(X_train, y_train)\n",
    "decisionTree = DecisionTreeRegressor().fit(X_train, y_train)\n",
    "randomForest = RandomForestRegressor().fit(X_train, y_train)"
   ]
  },
  {
   "cell_type": "code",
   "execution_count": 394,
   "metadata": {},
   "outputs": [
    {
     "data": {
      "text/plain": [
       "157.3475050777454"
      ]
     },
     "execution_count": 394,
     "metadata": {},
     "output_type": "execute_result"
    }
   ],
   "source": [
    "cv = cross_val_score(decisionTree, X_train, y_train, \n",
    "                                    cv=tscv, \n",
    "                                    scoring=\"neg_mean_absolute_error\")\n",
    "mae = cv.mean() * (-1)\n",
    "mae"
   ]
  },
  {
   "cell_type": "code",
   "execution_count": 396,
   "metadata": {},
   "outputs": [
    {
     "data": {
      "text/plain": [
       "7.8246183369515485"
      ]
     },
     "execution_count": 396,
     "metadata": {},
     "output_type": "execute_result"
    }
   ],
   "source": [
    "prediction = decisionTree.predict(X_test)\n",
    "error = mean_absolute_percentage_error(prediction, y_test)\n",
    "error"
   ]
  },
  {
   "cell_type": "code",
   "execution_count": 397,
   "metadata": {},
   "outputs": [],
   "source": [
    "y_pred = decisionTree.predict(X_test)"
   ]
  },
  {
   "cell_type": "code",
   "execution_count": 440,
   "metadata": {},
   "outputs": [],
   "source": [
    "january1st2020 = fullData[(fullData['Month']== 1) & (fullData['Year'] == 2020) & (fullData['Day'] == 1)]"
   ]
  },
  {
   "cell_type": "code",
   "execution_count": 441,
   "metadata": {},
   "outputs": [
    {
     "data": {
      "text/html": [
       "<div>\n",
       "<style scoped>\n",
       "    .dataframe tbody tr th:only-of-type {\n",
       "        vertical-align: middle;\n",
       "    }\n",
       "\n",
       "    .dataframe tbody tr th {\n",
       "        vertical-align: top;\n",
       "    }\n",
       "\n",
       "    .dataframe thead th {\n",
       "        text-align: right;\n",
       "    }\n",
       "</style>\n",
       "<table border=\"1\" class=\"dataframe\">\n",
       "  <thead>\n",
       "    <tr style=\"text-align: right;\">\n",
       "      <th></th>\n",
       "      <th>Date</th>\n",
       "      <th>Power</th>\n",
       "      <th>ActualDate</th>\n",
       "      <th>Holiday</th>\n",
       "      <th>SpecialEvent</th>\n",
       "      <th>Year</th>\n",
       "      <th>Month</th>\n",
       "      <th>Day</th>\n",
       "      <th>Hour</th>\n",
       "      <th>DayOfYear</th>\n",
       "      <th>weekday</th>\n",
       "      <th>is_weekend</th>\n",
       "      <th>Season</th>\n",
       "    </tr>\n",
       "  </thead>\n",
       "  <tbody>\n",
       "    <tr>\n",
       "      <th>1970-01-01 00:00:00.000000000</th>\n",
       "      <td>2020-01-01 00:00:00.000</td>\n",
       "      <td>2104.4</td>\n",
       "      <td>2020-01-01</td>\n",
       "      <td>1</td>\n",
       "      <td>0</td>\n",
       "      <td>2020</td>\n",
       "      <td>1</td>\n",
       "      <td>1</td>\n",
       "      <td>0</td>\n",
       "      <td>1</td>\n",
       "      <td>2</td>\n",
       "      <td>0</td>\n",
       "      <td>1</td>\n",
       "    </tr>\n",
       "    <tr>\n",
       "      <th>1970-01-01 00:00:00.000000001</th>\n",
       "      <td>2020-01-01 01:00:00.000</td>\n",
       "      <td>2096.0</td>\n",
       "      <td>2020-01-01</td>\n",
       "      <td>1</td>\n",
       "      <td>0</td>\n",
       "      <td>2020</td>\n",
       "      <td>1</td>\n",
       "      <td>1</td>\n",
       "      <td>1</td>\n",
       "      <td>1</td>\n",
       "      <td>2</td>\n",
       "      <td>0</td>\n",
       "      <td>1</td>\n",
       "    </tr>\n",
       "    <tr>\n",
       "      <th>1970-01-01 00:00:00.000000002</th>\n",
       "      <td>2020-01-01 01:59:59.990</td>\n",
       "      <td>2073.8</td>\n",
       "      <td>2020-01-01</td>\n",
       "      <td>1</td>\n",
       "      <td>0</td>\n",
       "      <td>2020</td>\n",
       "      <td>1</td>\n",
       "      <td>1</td>\n",
       "      <td>1</td>\n",
       "      <td>1</td>\n",
       "      <td>2</td>\n",
       "      <td>0</td>\n",
       "      <td>1</td>\n",
       "    </tr>\n",
       "    <tr>\n",
       "      <th>1970-01-01 00:00:00.000000003</th>\n",
       "      <td>2020-01-01 02:59:59.985</td>\n",
       "      <td>2051.1</td>\n",
       "      <td>2020-01-01</td>\n",
       "      <td>1</td>\n",
       "      <td>0</td>\n",
       "      <td>2020</td>\n",
       "      <td>1</td>\n",
       "      <td>1</td>\n",
       "      <td>2</td>\n",
       "      <td>1</td>\n",
       "      <td>2</td>\n",
       "      <td>0</td>\n",
       "      <td>1</td>\n",
       "    </tr>\n",
       "    <tr>\n",
       "      <th>1970-01-01 00:00:00.000000004</th>\n",
       "      <td>2020-01-01 03:59:59.980</td>\n",
       "      <td>1947.1</td>\n",
       "      <td>2020-01-01</td>\n",
       "      <td>1</td>\n",
       "      <td>0</td>\n",
       "      <td>2020</td>\n",
       "      <td>1</td>\n",
       "      <td>1</td>\n",
       "      <td>3</td>\n",
       "      <td>1</td>\n",
       "      <td>2</td>\n",
       "      <td>0</td>\n",
       "      <td>1</td>\n",
       "    </tr>\n",
       "    <tr>\n",
       "      <th>1970-01-01 00:00:00.000000005</th>\n",
       "      <td>2020-01-01 04:59:59.975</td>\n",
       "      <td>1868.4</td>\n",
       "      <td>2020-01-01</td>\n",
       "      <td>1</td>\n",
       "      <td>0</td>\n",
       "      <td>2020</td>\n",
       "      <td>1</td>\n",
       "      <td>1</td>\n",
       "      <td>4</td>\n",
       "      <td>1</td>\n",
       "      <td>2</td>\n",
       "      <td>0</td>\n",
       "      <td>1</td>\n",
       "    </tr>\n",
       "    <tr>\n",
       "      <th>1970-01-01 00:00:00.000000006</th>\n",
       "      <td>2020-01-01 05:59:59.970</td>\n",
       "      <td>1699.5</td>\n",
       "      <td>2020-01-01</td>\n",
       "      <td>1</td>\n",
       "      <td>0</td>\n",
       "      <td>2020</td>\n",
       "      <td>1</td>\n",
       "      <td>1</td>\n",
       "      <td>5</td>\n",
       "      <td>1</td>\n",
       "      <td>2</td>\n",
       "      <td>0</td>\n",
       "      <td>1</td>\n",
       "    </tr>\n",
       "    <tr>\n",
       "      <th>1970-01-01 00:00:00.000000007</th>\n",
       "      <td>2020-01-01 06:59:59.965</td>\n",
       "      <td>1699.8</td>\n",
       "      <td>2020-01-01</td>\n",
       "      <td>1</td>\n",
       "      <td>0</td>\n",
       "      <td>2020</td>\n",
       "      <td>1</td>\n",
       "      <td>1</td>\n",
       "      <td>6</td>\n",
       "      <td>1</td>\n",
       "      <td>2</td>\n",
       "      <td>0</td>\n",
       "      <td>1</td>\n",
       "    </tr>\n",
       "    <tr>\n",
       "      <th>1970-01-01 00:00:00.000000008</th>\n",
       "      <td>2020-01-01 07:59:59.960</td>\n",
       "      <td>1718.7</td>\n",
       "      <td>2020-01-01</td>\n",
       "      <td>1</td>\n",
       "      <td>0</td>\n",
       "      <td>2020</td>\n",
       "      <td>1</td>\n",
       "      <td>1</td>\n",
       "      <td>7</td>\n",
       "      <td>1</td>\n",
       "      <td>2</td>\n",
       "      <td>0</td>\n",
       "      <td>1</td>\n",
       "    </tr>\n",
       "    <tr>\n",
       "      <th>1970-01-01 00:00:00.000000009</th>\n",
       "      <td>2020-01-01 08:59:59.955</td>\n",
       "      <td>1751.9</td>\n",
       "      <td>2020-01-01</td>\n",
       "      <td>1</td>\n",
       "      <td>0</td>\n",
       "      <td>2020</td>\n",
       "      <td>1</td>\n",
       "      <td>1</td>\n",
       "      <td>8</td>\n",
       "      <td>1</td>\n",
       "      <td>2</td>\n",
       "      <td>0</td>\n",
       "      <td>1</td>\n",
       "    </tr>\n",
       "    <tr>\n",
       "      <th>1970-01-01 00:00:00.000000010</th>\n",
       "      <td>2020-01-01 09:59:59.950</td>\n",
       "      <td>1800.8</td>\n",
       "      <td>2020-01-01</td>\n",
       "      <td>1</td>\n",
       "      <td>0</td>\n",
       "      <td>2020</td>\n",
       "      <td>1</td>\n",
       "      <td>1</td>\n",
       "      <td>9</td>\n",
       "      <td>1</td>\n",
       "      <td>2</td>\n",
       "      <td>0</td>\n",
       "      <td>1</td>\n",
       "    </tr>\n",
       "    <tr>\n",
       "      <th>1970-01-01 00:00:00.000000011</th>\n",
       "      <td>2020-01-01 10:59:59.945</td>\n",
       "      <td>1786.5</td>\n",
       "      <td>2020-01-01</td>\n",
       "      <td>1</td>\n",
       "      <td>0</td>\n",
       "      <td>2020</td>\n",
       "      <td>1</td>\n",
       "      <td>1</td>\n",
       "      <td>10</td>\n",
       "      <td>1</td>\n",
       "      <td>2</td>\n",
       "      <td>0</td>\n",
       "      <td>1</td>\n",
       "    </tr>\n",
       "    <tr>\n",
       "      <th>1970-01-01 00:00:00.000000012</th>\n",
       "      <td>2020-01-01 11:59:59.940</td>\n",
       "      <td>1806.1</td>\n",
       "      <td>2020-01-01</td>\n",
       "      <td>1</td>\n",
       "      <td>0</td>\n",
       "      <td>2020</td>\n",
       "      <td>1</td>\n",
       "      <td>1</td>\n",
       "      <td>11</td>\n",
       "      <td>1</td>\n",
       "      <td>2</td>\n",
       "      <td>0</td>\n",
       "      <td>1</td>\n",
       "    </tr>\n",
       "    <tr>\n",
       "      <th>1970-01-01 00:00:00.000000013</th>\n",
       "      <td>2020-01-01 12:59:59.935</td>\n",
       "      <td>1832.2</td>\n",
       "      <td>2020-01-01</td>\n",
       "      <td>1</td>\n",
       "      <td>0</td>\n",
       "      <td>2020</td>\n",
       "      <td>1</td>\n",
       "      <td>1</td>\n",
       "      <td>12</td>\n",
       "      <td>1</td>\n",
       "      <td>2</td>\n",
       "      <td>0</td>\n",
       "      <td>1</td>\n",
       "    </tr>\n",
       "    <tr>\n",
       "      <th>1970-01-01 00:00:00.000000014</th>\n",
       "      <td>2020-01-01 13:59:59.930</td>\n",
       "      <td>1846.4</td>\n",
       "      <td>2020-01-01</td>\n",
       "      <td>1</td>\n",
       "      <td>0</td>\n",
       "      <td>2020</td>\n",
       "      <td>1</td>\n",
       "      <td>1</td>\n",
       "      <td>13</td>\n",
       "      <td>1</td>\n",
       "      <td>2</td>\n",
       "      <td>0</td>\n",
       "      <td>1</td>\n",
       "    </tr>\n",
       "    <tr>\n",
       "      <th>1970-01-01 00:00:00.000000015</th>\n",
       "      <td>2020-01-01 14:59:59.925</td>\n",
       "      <td>1855.4</td>\n",
       "      <td>2020-01-01</td>\n",
       "      <td>1</td>\n",
       "      <td>0</td>\n",
       "      <td>2020</td>\n",
       "      <td>1</td>\n",
       "      <td>1</td>\n",
       "      <td>14</td>\n",
       "      <td>1</td>\n",
       "      <td>2</td>\n",
       "      <td>0</td>\n",
       "      <td>1</td>\n",
       "    </tr>\n",
       "    <tr>\n",
       "      <th>1970-01-01 00:00:00.000000016</th>\n",
       "      <td>2020-01-01 15:59:59.920</td>\n",
       "      <td>1856.3</td>\n",
       "      <td>2020-01-01</td>\n",
       "      <td>1</td>\n",
       "      <td>0</td>\n",
       "      <td>2020</td>\n",
       "      <td>1</td>\n",
       "      <td>1</td>\n",
       "      <td>15</td>\n",
       "      <td>1</td>\n",
       "      <td>2</td>\n",
       "      <td>0</td>\n",
       "      <td>1</td>\n",
       "    </tr>\n",
       "    <tr>\n",
       "      <th>1970-01-01 00:00:00.000000017</th>\n",
       "      <td>2020-01-01 16:59:59.915</td>\n",
       "      <td>1930.9</td>\n",
       "      <td>2020-01-01</td>\n",
       "      <td>1</td>\n",
       "      <td>0</td>\n",
       "      <td>2020</td>\n",
       "      <td>1</td>\n",
       "      <td>1</td>\n",
       "      <td>16</td>\n",
       "      <td>1</td>\n",
       "      <td>2</td>\n",
       "      <td>0</td>\n",
       "      <td>1</td>\n",
       "    </tr>\n",
       "    <tr>\n",
       "      <th>1970-01-01 00:00:00.000000018</th>\n",
       "      <td>2020-01-01 17:59:59.910</td>\n",
       "      <td>2359.9</td>\n",
       "      <td>2020-01-01</td>\n",
       "      <td>1</td>\n",
       "      <td>0</td>\n",
       "      <td>2020</td>\n",
       "      <td>1</td>\n",
       "      <td>1</td>\n",
       "      <td>17</td>\n",
       "      <td>1</td>\n",
       "      <td>2</td>\n",
       "      <td>0</td>\n",
       "      <td>1</td>\n",
       "    </tr>\n",
       "    <tr>\n",
       "      <th>1970-01-01 00:00:00.000000019</th>\n",
       "      <td>2020-01-01 18:59:59.905</td>\n",
       "      <td>2324.9</td>\n",
       "      <td>2020-01-01</td>\n",
       "      <td>1</td>\n",
       "      <td>0</td>\n",
       "      <td>2020</td>\n",
       "      <td>1</td>\n",
       "      <td>1</td>\n",
       "      <td>18</td>\n",
       "      <td>1</td>\n",
       "      <td>2</td>\n",
       "      <td>0</td>\n",
       "      <td>1</td>\n",
       "    </tr>\n",
       "    <tr>\n",
       "      <th>1970-01-01 00:00:00.000000020</th>\n",
       "      <td>2020-01-01 19:59:59.900</td>\n",
       "      <td>2325.3</td>\n",
       "      <td>2020-01-01</td>\n",
       "      <td>1</td>\n",
       "      <td>0</td>\n",
       "      <td>2020</td>\n",
       "      <td>1</td>\n",
       "      <td>1</td>\n",
       "      <td>19</td>\n",
       "      <td>1</td>\n",
       "      <td>2</td>\n",
       "      <td>0</td>\n",
       "      <td>1</td>\n",
       "    </tr>\n",
       "    <tr>\n",
       "      <th>1970-01-01 00:00:00.000000021</th>\n",
       "      <td>2020-01-01 20:59:59.895</td>\n",
       "      <td>2245.2</td>\n",
       "      <td>2020-01-01</td>\n",
       "      <td>1</td>\n",
       "      <td>0</td>\n",
       "      <td>2020</td>\n",
       "      <td>1</td>\n",
       "      <td>1</td>\n",
       "      <td>20</td>\n",
       "      <td>1</td>\n",
       "      <td>2</td>\n",
       "      <td>0</td>\n",
       "      <td>1</td>\n",
       "    </tr>\n",
       "    <tr>\n",
       "      <th>1970-01-01 00:00:00.000000022</th>\n",
       "      <td>2020-01-01 21:59:59.890</td>\n",
       "      <td>2136.7</td>\n",
       "      <td>2020-01-01</td>\n",
       "      <td>1</td>\n",
       "      <td>0</td>\n",
       "      <td>2020</td>\n",
       "      <td>1</td>\n",
       "      <td>1</td>\n",
       "      <td>21</td>\n",
       "      <td>1</td>\n",
       "      <td>2</td>\n",
       "      <td>0</td>\n",
       "      <td>1</td>\n",
       "    </tr>\n",
       "    <tr>\n",
       "      <th>1970-01-01 00:00:00.000000023</th>\n",
       "      <td>2020-01-01 22:59:59.885</td>\n",
       "      <td>2059.0</td>\n",
       "      <td>2020-01-01</td>\n",
       "      <td>1</td>\n",
       "      <td>0</td>\n",
       "      <td>2020</td>\n",
       "      <td>1</td>\n",
       "      <td>1</td>\n",
       "      <td>22</td>\n",
       "      <td>1</td>\n",
       "      <td>2</td>\n",
       "      <td>0</td>\n",
       "      <td>1</td>\n",
       "    </tr>\n",
       "    <tr>\n",
       "      <th>1970-01-01 00:00:00.000000024</th>\n",
       "      <td>2020-01-01 23:59:59.880</td>\n",
       "      <td>1920.7</td>\n",
       "      <td>2020-01-01</td>\n",
       "      <td>1</td>\n",
       "      <td>0</td>\n",
       "      <td>2020</td>\n",
       "      <td>1</td>\n",
       "      <td>1</td>\n",
       "      <td>23</td>\n",
       "      <td>1</td>\n",
       "      <td>2</td>\n",
       "      <td>0</td>\n",
       "      <td>1</td>\n",
       "    </tr>\n",
       "  </tbody>\n",
       "</table>\n",
       "</div>"
      ],
      "text/plain": [
       "                                                 Date   Power  ActualDate  \\\n",
       "1970-01-01 00:00:00.000000000 2020-01-01 00:00:00.000  2104.4  2020-01-01   \n",
       "1970-01-01 00:00:00.000000001 2020-01-01 01:00:00.000  2096.0  2020-01-01   \n",
       "1970-01-01 00:00:00.000000002 2020-01-01 01:59:59.990  2073.8  2020-01-01   \n",
       "1970-01-01 00:00:00.000000003 2020-01-01 02:59:59.985  2051.1  2020-01-01   \n",
       "1970-01-01 00:00:00.000000004 2020-01-01 03:59:59.980  1947.1  2020-01-01   \n",
       "1970-01-01 00:00:00.000000005 2020-01-01 04:59:59.975  1868.4  2020-01-01   \n",
       "1970-01-01 00:00:00.000000006 2020-01-01 05:59:59.970  1699.5  2020-01-01   \n",
       "1970-01-01 00:00:00.000000007 2020-01-01 06:59:59.965  1699.8  2020-01-01   \n",
       "1970-01-01 00:00:00.000000008 2020-01-01 07:59:59.960  1718.7  2020-01-01   \n",
       "1970-01-01 00:00:00.000000009 2020-01-01 08:59:59.955  1751.9  2020-01-01   \n",
       "1970-01-01 00:00:00.000000010 2020-01-01 09:59:59.950  1800.8  2020-01-01   \n",
       "1970-01-01 00:00:00.000000011 2020-01-01 10:59:59.945  1786.5  2020-01-01   \n",
       "1970-01-01 00:00:00.000000012 2020-01-01 11:59:59.940  1806.1  2020-01-01   \n",
       "1970-01-01 00:00:00.000000013 2020-01-01 12:59:59.935  1832.2  2020-01-01   \n",
       "1970-01-01 00:00:00.000000014 2020-01-01 13:59:59.930  1846.4  2020-01-01   \n",
       "1970-01-01 00:00:00.000000015 2020-01-01 14:59:59.925  1855.4  2020-01-01   \n",
       "1970-01-01 00:00:00.000000016 2020-01-01 15:59:59.920  1856.3  2020-01-01   \n",
       "1970-01-01 00:00:00.000000017 2020-01-01 16:59:59.915  1930.9  2020-01-01   \n",
       "1970-01-01 00:00:00.000000018 2020-01-01 17:59:59.910  2359.9  2020-01-01   \n",
       "1970-01-01 00:00:00.000000019 2020-01-01 18:59:59.905  2324.9  2020-01-01   \n",
       "1970-01-01 00:00:00.000000020 2020-01-01 19:59:59.900  2325.3  2020-01-01   \n",
       "1970-01-01 00:00:00.000000021 2020-01-01 20:59:59.895  2245.2  2020-01-01   \n",
       "1970-01-01 00:00:00.000000022 2020-01-01 21:59:59.890  2136.7  2020-01-01   \n",
       "1970-01-01 00:00:00.000000023 2020-01-01 22:59:59.885  2059.0  2020-01-01   \n",
       "1970-01-01 00:00:00.000000024 2020-01-01 23:59:59.880  1920.7  2020-01-01   \n",
       "\n",
       "                               Holiday  SpecialEvent  Year  Month  Day  Hour  \\\n",
       "1970-01-01 00:00:00.000000000        1             0  2020      1    1     0   \n",
       "1970-01-01 00:00:00.000000001        1             0  2020      1    1     1   \n",
       "1970-01-01 00:00:00.000000002        1             0  2020      1    1     1   \n",
       "1970-01-01 00:00:00.000000003        1             0  2020      1    1     2   \n",
       "1970-01-01 00:00:00.000000004        1             0  2020      1    1     3   \n",
       "1970-01-01 00:00:00.000000005        1             0  2020      1    1     4   \n",
       "1970-01-01 00:00:00.000000006        1             0  2020      1    1     5   \n",
       "1970-01-01 00:00:00.000000007        1             0  2020      1    1     6   \n",
       "1970-01-01 00:00:00.000000008        1             0  2020      1    1     7   \n",
       "1970-01-01 00:00:00.000000009        1             0  2020      1    1     8   \n",
       "1970-01-01 00:00:00.000000010        1             0  2020      1    1     9   \n",
       "1970-01-01 00:00:00.000000011        1             0  2020      1    1    10   \n",
       "1970-01-01 00:00:00.000000012        1             0  2020      1    1    11   \n",
       "1970-01-01 00:00:00.000000013        1             0  2020      1    1    12   \n",
       "1970-01-01 00:00:00.000000014        1             0  2020      1    1    13   \n",
       "1970-01-01 00:00:00.000000015        1             0  2020      1    1    14   \n",
       "1970-01-01 00:00:00.000000016        1             0  2020      1    1    15   \n",
       "1970-01-01 00:00:00.000000017        1             0  2020      1    1    16   \n",
       "1970-01-01 00:00:00.000000018        1             0  2020      1    1    17   \n",
       "1970-01-01 00:00:00.000000019        1             0  2020      1    1    18   \n",
       "1970-01-01 00:00:00.000000020        1             0  2020      1    1    19   \n",
       "1970-01-01 00:00:00.000000021        1             0  2020      1    1    20   \n",
       "1970-01-01 00:00:00.000000022        1             0  2020      1    1    21   \n",
       "1970-01-01 00:00:00.000000023        1             0  2020      1    1    22   \n",
       "1970-01-01 00:00:00.000000024        1             0  2020      1    1    23   \n",
       "\n",
       "                               DayOfYear  weekday  is_weekend  Season  \n",
       "1970-01-01 00:00:00.000000000          1        2           0       1  \n",
       "1970-01-01 00:00:00.000000001          1        2           0       1  \n",
       "1970-01-01 00:00:00.000000002          1        2           0       1  \n",
       "1970-01-01 00:00:00.000000003          1        2           0       1  \n",
       "1970-01-01 00:00:00.000000004          1        2           0       1  \n",
       "1970-01-01 00:00:00.000000005          1        2           0       1  \n",
       "1970-01-01 00:00:00.000000006          1        2           0       1  \n",
       "1970-01-01 00:00:00.000000007          1        2           0       1  \n",
       "1970-01-01 00:00:00.000000008          1        2           0       1  \n",
       "1970-01-01 00:00:00.000000009          1        2           0       1  \n",
       "1970-01-01 00:00:00.000000010          1        2           0       1  \n",
       "1970-01-01 00:00:00.000000011          1        2           0       1  \n",
       "1970-01-01 00:00:00.000000012          1        2           0       1  \n",
       "1970-01-01 00:00:00.000000013          1        2           0       1  \n",
       "1970-01-01 00:00:00.000000014          1        2           0       1  \n",
       "1970-01-01 00:00:00.000000015          1        2           0       1  \n",
       "1970-01-01 00:00:00.000000016          1        2           0       1  \n",
       "1970-01-01 00:00:00.000000017          1        2           0       1  \n",
       "1970-01-01 00:00:00.000000018          1        2           0       1  \n",
       "1970-01-01 00:00:00.000000019          1        2           0       1  \n",
       "1970-01-01 00:00:00.000000020          1        2           0       1  \n",
       "1970-01-01 00:00:00.000000021          1        2           0       1  \n",
       "1970-01-01 00:00:00.000000022          1        2           0       1  \n",
       "1970-01-01 00:00:00.000000023          1        2           0       1  \n",
       "1970-01-01 00:00:00.000000024          1        2           0       1  "
      ]
     },
     "execution_count": 441,
     "metadata": {},
     "output_type": "execute_result"
    }
   ],
   "source": [
    "january1st2020"
   ]
  },
  {
   "cell_type": "code",
   "execution_count": 400,
   "metadata": {},
   "outputs": [],
   "source": [
    "# model.predict(january1st2020)\n",
    "# january1st2020.index\n",
    "# january1st2020labels = y_test[y_test.index == january1st2020.index]\n",
    "# y_test.index\n",
    "y_pred = randomForest.predict(january1st2020.drop(['Date', 'Power', 'ActualDate'], axis=1))\n"
   ]
  },
  {
   "cell_type": "code",
   "execution_count": 401,
   "metadata": {},
   "outputs": [
    {
     "data": {
      "image/png": "[encoded data removed]",
      "text/plain": [
       "<Figure size 432x288 with 1 Axes>"
      ]
     },
     "metadata": {
      "needs_background": "light"
     },
     "output_type": "display_data"
    }
   ],
   "source": [
    "plt.plot(np.arange(25), y_pred[:25])\n",
    "plt.plot(np.arange(25), january1st2020.Power[:25])\n",
    "plt.xlabel('Hour')\n",
    "plt.ylabel('Power')\n",
    "plt.title('Power on January 1st 2020 Using Decision Tree')\n",
    "plt.legend(['Actual', 'Predicted'])\n",
    "plt.savefig('../../figs/decisionTree-mae=' + str(round(mae,2)) + ',mape=' + str(round(error,2)) + '.jpg')"
   ]
  },
  {
   "cell_type": "markdown",
   "metadata": {},
   "source": [
    "### Stacking"
   ]
  },
  {
   "cell_type": "code",
   "execution_count": 485,
   "metadata": {},
   "outputs": [],
   "source": [
    "base_learner1= LGBMRegressor()\n",
    "base_learner2 = CatBoostRegressor(verbose=False)\n",
    "base_learner3 = GradientBoostingRegressor()"
   ]
  },
  {
   "cell_type": "code",
   "execution_count": 486,
   "metadata": {},
   "outputs": [
    {
     "data": {
      "text/plain": [
       "GradientBoostingRegressor(alpha=0.9, ccp_alpha=0.0, criterion='friedman_mse',\n",
       "                          init=None, learning_rate=0.1, loss='ls', max_depth=3,\n",
       "                          max_features=None, max_leaf_nodes=None,\n",
       "                          min_impurity_decrease=0.0, min_impurity_split=None,\n",
       "                          min_samples_leaf=1, min_samples_split=2,\n",
       "                          min_weight_fraction_leaf=0.0, n_estimators=100,\n",
       "                          n_iter_no_change=None, presort='deprecated',\n",
       "                          random_state=None, subsample=1.0, tol=0.0001,\n",
       "                          validation_fraction=0.1, verbose=0, warm_start=False)"
      ]
     },
     "execution_count": 486,
     "metadata": {},
     "output_type": "execute_result"
    }
   ],
   "source": [
    "base_learner1.fit(X_train,y_train)\n",
    "base_learner2.fit(X_train,y_train)\n",
    "base_learner3.fit(X_train,y_train)"
   ]
  },
  {
   "cell_type": "code",
   "execution_count": 487,
   "metadata": {},
   "outputs": [],
   "source": [
    "base_learner1_predictions = base_learner1.predict(X_test)\n",
    "base_learner2_predictions = base_learner2.predict(X_test)\n",
    "base_learner3_predictions = base_learner3.predict(X_test)"
   ]
  },
  {
   "cell_type": "code",
   "execution_count": 488,
   "metadata": {},
   "outputs": [
    {
     "data": {
      "text/html": [
       "<div>\n",
       "<style scoped>\n",
       "    .dataframe tbody tr th:only-of-type {\n",
       "        vertical-align: middle;\n",
       "    }\n",
       "\n",
       "    .dataframe tbody tr th {\n",
       "        vertical-align: top;\n",
       "    }\n",
       "\n",
       "    .dataframe thead th {\n",
       "        text-align: right;\n",
       "    }\n",
       "</style>\n",
       "<table border=\"1\" class=\"dataframe\">\n",
       "  <thead>\n",
       "    <tr style=\"text-align: right;\">\n",
       "      <th></th>\n",
       "      <th>learner1</th>\n",
       "      <th>learner2</th>\n",
       "      <th>learner3</th>\n",
       "    </tr>\n",
       "  </thead>\n",
       "  <tbody>\n",
       "    <tr>\n",
       "      <th>0</th>\n",
       "      <td>2470.930675</td>\n",
       "      <td>2552.209972</td>\n",
       "      <td>2386.053114</td>\n",
       "    </tr>\n",
       "    <tr>\n",
       "      <th>1</th>\n",
       "      <td>2453.724789</td>\n",
       "      <td>2530.048269</td>\n",
       "      <td>2370.657851</td>\n",
       "    </tr>\n",
       "    <tr>\n",
       "      <th>2</th>\n",
       "      <td>2370.652855</td>\n",
       "      <td>2434.533757</td>\n",
       "      <td>2279.971656</td>\n",
       "    </tr>\n",
       "    <tr>\n",
       "      <th>3</th>\n",
       "      <td>2231.118378</td>\n",
       "      <td>2349.536389</td>\n",
       "      <td>2220.861418</td>\n",
       "    </tr>\n",
       "    <tr>\n",
       "      <th>4</th>\n",
       "      <td>2123.076282</td>\n",
       "      <td>2140.119641</td>\n",
       "      <td>2106.240612</td>\n",
       "    </tr>\n",
       "  </tbody>\n",
       "</table>\n",
       "</div>"
      ],
      "text/plain": [
       "      learner1     learner2     learner3\n",
       "0  2470.930675  2552.209972  2386.053114\n",
       "1  2453.724789  2530.048269  2370.657851\n",
       "2  2370.652855  2434.533757  2279.971656\n",
       "3  2231.118378  2349.536389  2220.861418\n",
       "4  2123.076282  2140.119641  2106.240612"
      ]
     },
     "execution_count": 488,
     "metadata": {},
     "output_type": "execute_result"
    }
   ],
   "source": [
    "predictions = pd.DataFrame({\n",
    "    'learner1': base_learner1_predictions,\n",
    "    'learner2' : base_learner2_predictions,\n",
    "    'learner3' : base_learner3_predictions\n",
    "})\n",
    "predictions.head()"
   ]
  },
  {
   "cell_type": "code",
   "execution_count": 489,
   "metadata": {},
   "outputs": [
    {
     "data": {
      "text/plain": [
       "3970.0"
      ]
     },
     "execution_count": 489,
     "metadata": {},
     "output_type": "execute_result"
    }
   ],
   "source": [
    "predictions.shape[0]/2"
   ]
  },
  {
   "cell_type": "code",
   "execution_count": 490,
   "metadata": {},
   "outputs": [
    {
     "data": {
      "text/plain": [
       "(7940,)"
      ]
     },
     "execution_count": 490,
     "metadata": {},
     "output_type": "execute_result"
    }
   ],
   "source": [
    "y_test.shape"
   ]
  },
  {
   "cell_type": "code",
   "execution_count": 491,
   "metadata": {},
   "outputs": [],
   "source": [
    "meta_learner = XGBRegressor()"
   ]
  },
  {
   "cell_type": "code",
   "execution_count": 492,
   "metadata": {},
   "outputs": [
    {
     "name": "stdout",
     "output_type": "stream",
     "text": [
      "[17:53:12] WARNING: /workspace/src/objective/regression_obj.cu:152: reg:linear is now deprecated in favor of reg:squarederror.\n"
     ]
    },
    {
     "data": {
      "text/plain": [
       "XGBRegressor(base_score=0.5, booster='gbtree', colsample_bylevel=1,\n",
       "             colsample_bynode=1, colsample_bytree=1, gamma=0,\n",
       "             importance_type='gain', learning_rate=0.1, max_delta_step=0,\n",
       "             max_depth=3, min_child_weight=1, missing=None, n_estimators=100,\n",
       "             n_jobs=1, nthread=None, objective='reg:linear', random_state=0,\n",
       "             reg_alpha=0, reg_lambda=1, scale_pos_weight=1, seed=None,\n",
       "             silent=None, subsample=1, verbosity=1)"
      ]
     },
     "execution_count": 492,
     "metadata": {},
     "output_type": "execute_result"
    }
   ],
   "source": [
    "meta_learner.fit(predictions.head(3970), y_test.head(3970))"
   ]
  },
  {
   "cell_type": "code",
   "execution_count": 493,
   "metadata": {},
   "outputs": [
    {
     "name": "stdout",
     "output_type": "stream",
     "text": [
      "[17:53:15] WARNING: /workspace/src/objective/regression_obj.cu:152: reg:linear is now deprecated in favor of reg:squarederror.\n",
      "[17:53:15] WARNING: /workspace/src/objective/regression_obj.cu:152: reg:linear is now deprecated in favor of reg:squarederror.\n",
      "[17:53:15] WARNING: /workspace/src/objective/regression_obj.cu:152: reg:linear is now deprecated in favor of reg:squarederror.\n",
      "[17:53:16] WARNING: /workspace/src/objective/regression_obj.cu:152: reg:linear is now deprecated in favor of reg:squarederror.\n",
      "[17:53:16] WARNING: /workspace/src/objective/regression_obj.cu:152: reg:linear is now deprecated in favor of reg:squarederror.\n"
     ]
    },
    {
     "data": {
      "text/plain": [
       "123.81411407890978"
      ]
     },
     "execution_count": 493,
     "metadata": {},
     "output_type": "execute_result"
    }
   ],
   "source": [
    "cv_stack = cross_val_score(meta_learner, predictions.head(3970), y_test.head(3970), \n",
    "                                    cv=tscv, \n",
    "                                    scoring=\"neg_mean_absolute_error\")\n",
    "mae = cv_stack.mean() * (-1)\n",
    "mae"
   ]
  },
  {
   "cell_type": "code",
   "execution_count": 494,
   "metadata": {},
   "outputs": [
    {
     "data": {
      "text/plain": [
       "6.469931232064783"
      ]
     },
     "execution_count": 494,
     "metadata": {},
     "output_type": "execute_result"
    }
   ],
   "source": [
    "prediction = meta_learner.predict(predictions.tail(3970))\n",
    "error = mean_absolute_percentage_error(prediction, y_test.tail(3970))\n",
    "error"
   ]
  },
  {
   "cell_type": "markdown",
   "metadata": {},
   "source": [
    "### Apply Stacking"
   ]
  },
  {
   "cell_type": "code",
   "execution_count": null,
   "metadata": {},
   "outputs": [],
   "source": []
  },
  {
   "cell_type": "code",
   "execution_count": null,
   "metadata": {},
   "outputs": [],
   "source": []
  },
  {
   "cell_type": "code",
   "execution_count": 495,
   "metadata": {},
   "outputs": [],
   "source": [
    "y_pred_stack = meta_learner.predict(\n",
    "    pd.DataFrame({\n",
    "        'learner1' : base_learner1.predict(january1st2020.drop(['Date', 'Power', 'ActualDate'], axis=1)),\n",
    "        'learner2' : base_learner2.predict(january1st2020.drop(['Date', 'Power', 'ActualDate'], axis=1)),\n",
    "        'learner3' : base_learner3.predict(january1st2020.drop(['Date', 'Power', 'ActualDate'], axis=1))\n",
    "}))"
   ]
  },
  {
   "cell_type": "code",
   "execution_count": 496,
   "metadata": {},
   "outputs": [
    {
     "data": {
      "image/png": "[encoded data removed]",
      "text/plain": [
       "<Figure size 432x288 with 1 Axes>"
      ]
     },
     "metadata": {
      "needs_background": "light"
     },
     "output_type": "display_data"
    }
   ],
   "source": [
    "plt.plot(np.arange(25), y_pred_stack[:25])\n",
    "plt.plot(np.arange(25), january1st2020.Power[:25])\n",
    "plt.xlabel('Hour')\n",
    "plt.ylabel('Power')\n",
    "plt.title('Power on January 1st 2020 Using Stacking')\n",
    "plt.legend(['Actual', 'Predicted'])\n",
    "plt.savefig('../../figs/stack-mae=' + str(round(mae,2)) + ',mape=' + str(round(error,2)) + '.jpg')"
   ]
  },
  {
   "cell_type": "markdown",
   "metadata": {},
   "source": [
    "#### Model Evaluation by Time"
   ]
  },
  {
   "cell_type": "code",
   "execution_count": 287,
   "metadata": {},
   "outputs": [],
   "source": [
    "TestSet = pd.concat([X_test, y_test], axis=1)"
   ]
  },
  {
   "cell_type": "code",
   "execution_count": 288,
   "metadata": {},
   "outputs": [],
   "source": [
    "first_eight_hours = TestSet[TestSet['Hour'] < 8]\n",
    "y_pred = model.predict(first_eight_hours.drop('Power', axis=1))\n",
    "mape = mean_absolute_percentage_error(y_pred, first_eight_hours['Power'])\n",
    "rmse = np.sqrt(mean_squared_error(y_pred, first_eight_hours['Power']))"
   ]
  },
  {
   "cell_type": "code",
   "execution_count": 289,
   "metadata": {},
   "outputs": [
    {
     "name": "stdout",
     "output_type": "stream",
     "text": [
      "MAPE from 12am to 8am 6.33%\n",
      "RMSE from 12am to 8am 163.71 Watt\n"
     ]
    }
   ],
   "source": [
    "print(f'MAPE from 12am to 8am {round(mape, 2)}%')\n",
    "print(f'RMSE from 12am to 8am {round(rmse, 2)} Watt')"
   ]
  },
  {
   "cell_type": "code",
   "execution_count": 290,
   "metadata": {},
   "outputs": [],
   "source": [
    "second_eight_hours = TestSet[(TestSet.Hour >= 8) & (TestSet.Hour < 16)]\n",
    "y_pred = model.predict(second_eight_hours.drop('Power', axis=1))\n",
    "mape = mean_absolute_percentage_error(y_pred, second_eight_hours['Power'])\n",
    "rmse = np.sqrt(mean_squared_error(y_pred, second_eight_hours['Power']))"
   ]
  },
  {
   "cell_type": "code",
   "execution_count": 291,
   "metadata": {},
   "outputs": [
    {
     "name": "stdout",
     "output_type": "stream",
     "text": [
      "MAPE from 8am to 4pm 6.64%\n",
      "RMSE from 8am to 4pm 180.42 Watt\n"
     ]
    }
   ],
   "source": [
    "print(f'MAPE from 8am to 4pm {round(mape, 2)}%')\n",
    "print(f'RMSE from 8am to 4pm {round(rmse, 2)} Watt')"
   ]
  },
  {
   "cell_type": "code",
   "execution_count": 292,
   "metadata": {},
   "outputs": [],
   "source": [
    "third_eight_hours = TestSet[(TestSet.Hour >= 16) & (TestSet.Hour < 24)]\n",
    "y_pred = model.predict(third_eight_hours.drop('Power', axis=1))\n",
    "mape = mean_absolute_percentage_error(y_pred, third_eight_hours['Power'])\n",
    "rmse = np.sqrt(mean_squared_error(y_pred, third_eight_hours['Power']))"
   ]
  },
  {
   "cell_type": "code",
   "execution_count": 293,
   "metadata": {},
   "outputs": [
    {
     "name": "stdout",
     "output_type": "stream",
     "text": [
      "MAPE from 4pm to 12am 6.35%\n",
      "RMSE from 4pm to 12am 190.64 Watt\n"
     ]
    }
   ],
   "source": [
    "print(f'MAPE from 4pm to 12am {round(mape, 2)}%')\n",
    "print(f'RMSE from 4pm to 12am {round(rmse, 2)} Watt')"
   ]
  },
  {
   "cell_type": "code",
   "execution_count": 300,
   "metadata": {},
   "outputs": [],
   "source": [
    "today = pd.DataFrame({\n",
    "    'Holiday' : 0,\n",
    "     'SpecialEvent' : 0,\n",
    "    'Year':2020,\n",
    "    'Month' : 5,\n",
    "    'Day' : 14,\n",
    "    'Hour' : 9,\n",
    "    'DayOfYear' : 133,\n",
    "    'weekday' : 3,\n",
    "    'is_weekend' : 0,\n",
    "   \n",
    "    \n",
    "}, index=[0])"
   ]
  },
  {
   "cell_type": "code",
   "execution_count": 301,
   "metadata": {},
   "outputs": [
    {
     "data": {
      "text/plain": [
       "array([1976.5905], dtype=float32)"
      ]
     },
     "execution_count": 301,
     "metadata": {},
     "output_type": "execute_result"
    }
   ],
   "source": [
    "model.predict(today)\n",
    "# X_test"
   ]
  },
  {
   "cell_type": "code",
   "execution_count": 302,
   "metadata": {},
   "outputs": [],
   "source": [
    "fullData['Power'] = fullData['Power'].astype('float')"
   ]
  },
  {
   "cell_type": "code",
   "execution_count": 303,
   "metadata": {},
   "outputs": [],
   "source": [
    "# sns.heatmap(fullData.corr(), annot=True)"
   ]
  },
  {
   "cell_type": "code",
   "execution_count": 305,
   "metadata": {},
   "outputs": [],
   "source": [
    "# np.sqrt(mean_squared_error(y_pred, y_test))"
   ]
  },
  {
   "cell_type": "code",
   "execution_count": null,
   "metadata": {},
   "outputs": [],
   "source": [
    "X_train.head()"
   ]
  },
  {
   "cell_type": "code",
   "execution_count": null,
   "metadata": {},
   "outputs": [],
   "source": [
    "mape = mean_absolute_percentage_error(y_pred, y_test)"
   ]
  },
  {
   "cell_type": "code",
   "execution_count": null,
   "metadata": {},
   "outputs": [],
   "source": [
    "mape"
   ]
  },
  {
   "cell_type": "code",
   "execution_count": null,
   "metadata": {},
   "outputs": [],
   "source": [
    "# dump(model,'../short-term-models/model(' + str(round(mape,3)) + ').joblib')"
   ]
  },
  {
   "cell_type": "code",
   "execution_count": null,
   "metadata": {},
   "outputs": [],
   "source": [
    "# X_train = train[['Year', 'Month', 'Day', 'Hour', 'DayOfYear']]\n",
    "# Y_train = train[['Power']]\n",
    "\n",
    "# X_test = data19[['Year', 'Month', 'Day', 'Hour', 'DayOfYear']]\n",
    "# Y_test = data19[['Power']]"
   ]
  },
  {
   "cell_type": "code",
   "execution_count": null,
   "metadata": {},
   "outputs": [],
   "source": [
    "X_test"
   ]
  },
  {
   "cell_type": "code",
   "execution_count": null,
   "metadata": {},
   "outputs": [],
   "source": [
    "# model = GradientBoostingRegressor(n_estimators=10000, learning_rate=0.001).fit(X_train, Y_train.values)"
   ]
  },
  {
   "cell_type": "code",
   "execution_count": null,
   "metadata": {},
   "outputs": [],
   "source": [
    "model.score(X_train, Y_train)"
   ]
  },
  {
   "cell_type": "code",
   "execution_count": null,
   "metadata": {},
   "outputs": [],
   "source": [
    "# model.score(X_test, Y_test)"
   ]
  },
  {
   "cell_type": "code",
   "execution_count": 67,
   "metadata": {},
   "outputs": [],
   "source": [
    "from sklearn.metrics import mean_squared_error, r2_score"
   ]
  },
  {
   "cell_type": "code",
   "execution_count": 68,
   "metadata": {},
   "outputs": [
    {
     "data": {
      "text/plain": [
       "310.75158214044745"
      ]
     },
     "execution_count": 68,
     "metadata": {},
     "output_type": "execute_result"
    }
   ],
   "source": [
    "np.sqrt(mean_squared_error(model.predict(X_test), Y_test))"
   ]
  },
  {
   "cell_type": "code",
   "execution_count": 69,
   "metadata": {},
   "outputs": [
    {
     "data": {
      "text/plain": [
       "-0.5395787790684439"
      ]
     },
     "execution_count": 69,
     "metadata": {},
     "output_type": "execute_result"
    }
   ],
   "source": [
    "r2_score(Y_test, model.predict(X_test))"
   ]
  },
  {
   "cell_type": "code",
   "execution_count": 70,
   "metadata": {},
   "outputs": [
    {
     "data": {
      "text/plain": [
       "<matplotlib.axes._subplots.AxesSubplot at 0x7fc18b1a95f8>"
      ]
     },
     "execution_count": 70,
     "metadata": {},
     "output_type": "execute_result"
    }
   ],
   "source": [
    "sns.heatmap(data= finalData.corr(), annot = True)"
   ]
  },
  {
   "cell_type": "code",
   "execution_count": 71,
   "metadata": {},
   "outputs": [],
   "source": [
    "# plt.scatter(finalData.hour, )"
   ]
  },
  {
   "cell_type": "code",
   "execution_count": 72,
   "metadata": {},
   "outputs": [
    {
     "data": {
      "text/html": [
       "<div>\n",
       "<style scoped>\n",
       "    .dataframe tbody tr th:only-of-type {\n",
       "        vertical-align: middle;\n",
       "    }\n",
       "\n",
       "    .dataframe tbody tr th {\n",
       "        vertical-align: top;\n",
       "    }\n",
       "\n",
       "    .dataframe thead th {\n",
       "        text-align: right;\n",
       "    }\n",
       "</style>\n",
       "<table border=\"1\" class=\"dataframe\">\n",
       "  <thead>\n",
       "    <tr style=\"text-align: right;\">\n",
       "      <th></th>\n",
       "      <th>Year</th>\n",
       "      <th>Month</th>\n",
       "      <th>Day</th>\n",
       "      <th>Hour</th>\n",
       "      <th>DayOfYear</th>\n",
       "    </tr>\n",
       "  </thead>\n",
       "  <tbody>\n",
       "    <tr>\n",
       "      <th>0</th>\n",
       "      <td>2019</td>\n",
       "      <td>1</td>\n",
       "      <td>1</td>\n",
       "      <td>0</td>\n",
       "      <td>1</td>\n",
       "    </tr>\n",
       "    <tr>\n",
       "      <th>1</th>\n",
       "      <td>2019</td>\n",
       "      <td>1</td>\n",
       "      <td>1</td>\n",
       "      <td>1</td>\n",
       "      <td>1</td>\n",
       "    </tr>\n",
       "    <tr>\n",
       "      <th>2</th>\n",
       "      <td>2019</td>\n",
       "      <td>1</td>\n",
       "      <td>1</td>\n",
       "      <td>2</td>\n",
       "      <td>1</td>\n",
       "    </tr>\n",
       "    <tr>\n",
       "      <th>3</th>\n",
       "      <td>2019</td>\n",
       "      <td>1</td>\n",
       "      <td>1</td>\n",
       "      <td>3</td>\n",
       "      <td>1</td>\n",
       "    </tr>\n",
       "    <tr>\n",
       "      <th>4</th>\n",
       "      <td>2019</td>\n",
       "      <td>1</td>\n",
       "      <td>1</td>\n",
       "      <td>4</td>\n",
       "      <td>1</td>\n",
       "    </tr>\n",
       "  </tbody>\n",
       "</table>\n",
       "</div>"
      ],
      "text/plain": [
       "   Year  Month  Day  Hour  DayOfYear\n",
       "0  2019      1    1     0          1\n",
       "1  2019      1    1     1          1\n",
       "2  2019      1    1     2          1\n",
       "3  2019      1    1     3          1\n",
       "4  2019      1    1     4          1"
      ]
     },
     "execution_count": 72,
     "metadata": {},
     "output_type": "execute_result"
    }
   ],
   "source": [
    "X_test.head()"
   ]
  },
  {
   "cell_type": "code",
   "execution_count": 97,
   "metadata": {},
   "outputs": [
    {
     "data": {
      "text/html": [
       "<div>\n",
       "<style scoped>\n",
       "    .dataframe tbody tr th:only-of-type {\n",
       "        vertical-align: middle;\n",
       "    }\n",
       "\n",
       "    .dataframe tbody tr th {\n",
       "        vertical-align: top;\n",
       "    }\n",
       "\n",
       "    .dataframe thead th {\n",
       "        text-align: right;\n",
       "    }\n",
       "</style>\n",
       "<table border=\"1\" class=\"dataframe\">\n",
       "  <thead>\n",
       "    <tr style=\"text-align: right;\">\n",
       "      <th></th>\n",
       "      <th>Year</th>\n",
       "      <th>Month</th>\n",
       "      <th>Day</th>\n",
       "      <th>Hour</th>\n",
       "      <th>DayOfYear</th>\n",
       "      <th>weekday</th>\n",
       "      <th>is_weekend</th>\n",
       "    </tr>\n",
       "  </thead>\n",
       "  <tbody>\n",
       "    <tr>\n",
       "      <th>1970-01-01 00:00:00.000007273</th>\n",
       "      <td>2019</td>\n",
       "      <td>10</td>\n",
       "      <td>31</td>\n",
       "      <td>1</td>\n",
       "      <td>304</td>\n",
       "      <td>3</td>\n",
       "      <td>0</td>\n",
       "    </tr>\n",
       "    <tr>\n",
       "      <th>1970-01-01 00:00:00.000007274</th>\n",
       "      <td>2019</td>\n",
       "      <td>10</td>\n",
       "      <td>31</td>\n",
       "      <td>2</td>\n",
       "      <td>304</td>\n",
       "      <td>3</td>\n",
       "      <td>0</td>\n",
       "    </tr>\n",
       "    <tr>\n",
       "      <th>1970-01-01 00:00:00.000007275</th>\n",
       "      <td>2019</td>\n",
       "      <td>10</td>\n",
       "      <td>31</td>\n",
       "      <td>3</td>\n",
       "      <td>304</td>\n",
       "      <td>3</td>\n",
       "      <td>0</td>\n",
       "    </tr>\n",
       "    <tr>\n",
       "      <th>1970-01-01 00:00:00.000007276</th>\n",
       "      <td>2019</td>\n",
       "      <td>10</td>\n",
       "      <td>31</td>\n",
       "      <td>4</td>\n",
       "      <td>304</td>\n",
       "      <td>3</td>\n",
       "      <td>0</td>\n",
       "    </tr>\n",
       "    <tr>\n",
       "      <th>1970-01-01 00:00:00.000007277</th>\n",
       "      <td>2019</td>\n",
       "      <td>10</td>\n",
       "      <td>31</td>\n",
       "      <td>5</td>\n",
       "      <td>304</td>\n",
       "      <td>3</td>\n",
       "      <td>0</td>\n",
       "    </tr>\n",
       "  </tbody>\n",
       "</table>\n",
       "</div>"
      ],
      "text/plain": [
       "                               Year  Month  Day  Hour  DayOfYear  weekday  \\\n",
       "1970-01-01 00:00:00.000007273  2019     10   31     1        304        3   \n",
       "1970-01-01 00:00:00.000007274  2019     10   31     2        304        3   \n",
       "1970-01-01 00:00:00.000007275  2019     10   31     3        304        3   \n",
       "1970-01-01 00:00:00.000007276  2019     10   31     4        304        3   \n",
       "1970-01-01 00:00:00.000007277  2019     10   31     5        304        3   \n",
       "\n",
       "                               is_weekend  \n",
       "1970-01-01 00:00:00.000007273           0  \n",
       "1970-01-01 00:00:00.000007274           0  \n",
       "1970-01-01 00:00:00.000007275           0  \n",
       "1970-01-01 00:00:00.000007276           0  \n",
       "1970-01-01 00:00:00.000007277           0  "
      ]
     },
     "execution_count": 97,
     "metadata": {},
     "output_type": "execute_result"
    }
   ],
   "source": [
    "X_test.head()"
   ]
  },
  {
   "cell_type": "code",
   "execution_count": 74,
   "metadata": {},
   "outputs": [
    {
     "data": {
      "text/plain": [
       "array([1604.09360052])"
      ]
     },
     "execution_count": 74,
     "metadata": {},
     "output_type": "execute_result"
    }
   ],
   "source": [
    "model.predict([X_test.loc[0]])"
   ]
  },
  {
   "cell_type": "code",
   "execution_count": 431,
   "metadata": {},
   "outputs": [],
   "source": [
    "# data_2017"
   ]
  },
  {
   "cell_type": "code",
   "execution_count": 145,
   "metadata": {},
   "outputs": [],
   "source": [
    "# plt.figure(figsize=(15,10))\n",
    "# plt.plot(data17['DayOfYear'], data17['Power'])"
   ]
  },
  {
   "cell_type": "code",
   "execution_count": 78,
   "metadata": {},
   "outputs": [],
   "source": [
    "predictions = model.predict(X_test)"
   ]
  },
  {
   "cell_type": "code",
   "execution_count": 146,
   "metadata": {},
   "outputs": [],
   "source": [
    "# plt.plot(np.arange(24),Y_test[24:48])\n",
    "# plt.plot(np.arange(24),predictions[24:48])"
   ]
  },
  {
   "cell_type": "code",
   "execution_count": 133,
   "metadata": {},
   "outputs": [
    {
     "data": {
      "text/html": [
       "<div>\n",
       "<style scoped>\n",
       "    .dataframe tbody tr th:only-of-type {\n",
       "        vertical-align: middle;\n",
       "    }\n",
       "\n",
       "    .dataframe tbody tr th {\n",
       "        vertical-align: top;\n",
       "    }\n",
       "\n",
       "    .dataframe thead th {\n",
       "        text-align: right;\n",
       "    }\n",
       "</style>\n",
       "<table border=\"1\" class=\"dataframe\">\n",
       "  <thead>\n",
       "    <tr style=\"text-align: right;\">\n",
       "      <th></th>\n",
       "      <th>y_test</th>\n",
       "      <th>y_pred</th>\n",
       "    </tr>\n",
       "  </thead>\n",
       "  <tbody>\n",
       "    <tr>\n",
       "      <th>1970-01-01 00:00:00.000001004</th>\n",
       "      <td>2572.7</td>\n",
       "      <td>2383.623779</td>\n",
       "    </tr>\n",
       "    <tr>\n",
       "      <th>1970-01-01 00:00:00.000001005</th>\n",
       "      <td>2500.3</td>\n",
       "      <td>2367.546387</td>\n",
       "    </tr>\n",
       "    <tr>\n",
       "      <th>1970-01-01 00:00:00.000001006</th>\n",
       "      <td>2456.9</td>\n",
       "      <td>2278.456787</td>\n",
       "    </tr>\n",
       "    <tr>\n",
       "      <th>1970-01-01 00:00:00.000001007</th>\n",
       "      <td>2269.3</td>\n",
       "      <td>2220.514648</td>\n",
       "    </tr>\n",
       "    <tr>\n",
       "      <th>1970-01-01 00:00:00.000001008</th>\n",
       "      <td>2215.1</td>\n",
       "      <td>2110.558594</td>\n",
       "    </tr>\n",
       "    <tr>\n",
       "      <th>...</th>\n",
       "      <td>...</td>\n",
       "      <td>...</td>\n",
       "    </tr>\n",
       "    <tr>\n",
       "      <th>1970-01-01 00:00:00.000000187</th>\n",
       "      <td>2620.6</td>\n",
       "      <td>2301.289795</td>\n",
       "    </tr>\n",
       "    <tr>\n",
       "      <th>1970-01-01 00:00:00.000000188</th>\n",
       "      <td>2633.5</td>\n",
       "      <td>2301.289795</td>\n",
       "    </tr>\n",
       "    <tr>\n",
       "      <th>1970-01-01 00:00:00.000000189</th>\n",
       "      <td>2569.4</td>\n",
       "      <td>2285.212402</td>\n",
       "    </tr>\n",
       "    <tr>\n",
       "      <th>1970-01-01 00:00:00.000000190</th>\n",
       "      <td>2418.9</td>\n",
       "      <td>2196.123291</td>\n",
       "    </tr>\n",
       "    <tr>\n",
       "      <th>1970-01-01 00:00:00.000000191</th>\n",
       "      <td>2312.6</td>\n",
       "      <td>2138.180908</td>\n",
       "    </tr>\n",
       "  </tbody>\n",
       "</table>\n",
       "<p>7940 rows × 2 columns</p>\n",
       "</div>"
      ],
      "text/plain": [
       "                               y_test       y_pred\n",
       "1970-01-01 00:00:00.000001004  2572.7  2383.623779\n",
       "1970-01-01 00:00:00.000001005  2500.3  2367.546387\n",
       "1970-01-01 00:00:00.000001006  2456.9  2278.456787\n",
       "1970-01-01 00:00:00.000001007  2269.3  2220.514648\n",
       "1970-01-01 00:00:00.000001008  2215.1  2110.558594\n",
       "...                               ...          ...\n",
       "1970-01-01 00:00:00.000000187  2620.6  2301.289795\n",
       "1970-01-01 00:00:00.000000188  2633.5  2301.289795\n",
       "1970-01-01 00:00:00.000000189  2569.4  2285.212402\n",
       "1970-01-01 00:00:00.000000190  2418.9  2196.123291\n",
       "1970-01-01 00:00:00.000000191  2312.6  2138.180908\n",
       "\n",
       "[7940 rows x 2 columns]"
      ]
     },
     "execution_count": 133,
     "metadata": {},
     "output_type": "execute_result"
    }
   ],
   "source": [
    "pd.DataFrame({\n",
    "    'y_test' : y_test,\n",
    "    'y_pred' : model.predict(X_test)\n",
    "})"
   ]
  },
  {
   "cell_type": "code",
   "execution_count": null,
   "metadata": {},
   "outputs": [],
   "source": []
  }
 ],
 "metadata": {
  "kernelspec": {
   "display_name": "Python 3",
   "language": "python",
   "name": "python3"
  },
  "language_info": {
   "codemirror_mode": {
    "name": "ipython",
    "version": 3
   },
   "file_extension": ".py",
   "mimetype": "text/x-python",
   "name": "python",
   "nbconvert_exporter": "python",
   "pygments_lexer": "ipython3",
   "version": "3.7.3"
  }
 },
 "nbformat": 4,
 "nbformat_minor": 4
}
